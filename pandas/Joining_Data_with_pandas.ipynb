{
  "nbformat": 4,
  "nbformat_minor": 0,
  "metadata": {
    "colab": {
      "name": "Joining Data with pandas.ipynb",
      "provenance": [],
      "collapsed_sections": [],
      "mount_file_id": "1Rdyx6na-tUKCO8NMwjZ7zMdJwyIAduoV",
      "authorship_tag": "ABX9TyMG84B0ZXWoA4PXdwyfbAsM",
      "include_colab_link": true
    },
    "kernelspec": {
      "name": "python3",
      "display_name": "Python 3"
    }
  },
  "cells": [
    {
      "cell_type": "markdown",
      "metadata": {
        "id": "view-in-github",
        "colab_type": "text"
      },
      "source": [
        "<a href=\"https://colab.research.google.com/github/nandakumar92/datacamp/blob/main/Joining_Data_with_pandas.ipynb\" target=\"_parent\"><img src=\"https://colab.research.google.com/assets/colab-badge.svg\" alt=\"Open In Colab\"/></a>"
      ]
    },
    {
      "cell_type": "code",
      "metadata": {
        "id": "ergaqw9rRZaG"
      },
      "source": [
        "import pandas as pd\r\n",
        "import numpy as np"
      ],
      "execution_count": 1,
      "outputs": []
    },
    {
      "cell_type": "code",
      "metadata": {
        "id": "F7SaZfiMSIWo"
      },
      "source": [
        "ward=pd.read_pickle('/content/drive/MyDrive/Colab/Data/Joining Data with pandas/ward.p')"
      ],
      "execution_count": 2,
      "outputs": []
    },
    {
      "cell_type": "code",
      "metadata": {
        "id": "sbHiszljTmVD"
      },
      "source": [
        "census=pd.read_pickle('/content/drive/MyDrive/Colab/Data/Joining Data with pandas/census.p')"
      ],
      "execution_count": 3,
      "outputs": []
    },
    {
      "cell_type": "code",
      "metadata": {
        "colab": {
          "base_uri": "https://localhost:8080/",
          "height": 80
        },
        "id": "yeUqRBhjTpHd",
        "outputId": "a5544b0e-1656-465e-b074-d08145d02171"
      },
      "source": [
        "ward.head(1)"
      ],
      "execution_count": 4,
      "outputs": [
        {
          "output_type": "execute_result",
          "data": {
            "text/html": [
              "<div>\n",
              "<style scoped>\n",
              "    .dataframe tbody tr th:only-of-type {\n",
              "        vertical-align: middle;\n",
              "    }\n",
              "\n",
              "    .dataframe tbody tr th {\n",
              "        vertical-align: top;\n",
              "    }\n",
              "\n",
              "    .dataframe thead th {\n",
              "        text-align: right;\n",
              "    }\n",
              "</style>\n",
              "<table border=\"1\" class=\"dataframe\">\n",
              "  <thead>\n",
              "    <tr style=\"text-align: right;\">\n",
              "      <th></th>\n",
              "      <th>ward</th>\n",
              "      <th>alderman</th>\n",
              "      <th>address</th>\n",
              "      <th>zip</th>\n",
              "    </tr>\n",
              "  </thead>\n",
              "  <tbody>\n",
              "    <tr>\n",
              "      <th>0</th>\n",
              "      <td>1</td>\n",
              "      <td>Proco \"Joe\" Moreno</td>\n",
              "      <td>2058 NORTH WESTERN AVENUE</td>\n",
              "      <td>60647</td>\n",
              "    </tr>\n",
              "  </tbody>\n",
              "</table>\n",
              "</div>"
            ],
            "text/plain": [
              "  ward            alderman                    address    zip\n",
              "0    1  Proco \"Joe\" Moreno  2058 NORTH WESTERN AVENUE  60647"
            ]
          },
          "metadata": {
            "tags": []
          },
          "execution_count": 4
        }
      ]
    },
    {
      "cell_type": "code",
      "metadata": {
        "colab": {
          "base_uri": "https://localhost:8080/",
          "height": 80
        },
        "id": "rJf-zH3wTrIe",
        "outputId": "38505c31-d0b5-4365-acf8-892392b7a11a"
      },
      "source": [
        "census.head(1)"
      ],
      "execution_count": 5,
      "outputs": [
        {
          "output_type": "execute_result",
          "data": {
            "text/html": [
              "<div>\n",
              "<style scoped>\n",
              "    .dataframe tbody tr th:only-of-type {\n",
              "        vertical-align: middle;\n",
              "    }\n",
              "\n",
              "    .dataframe tbody tr th {\n",
              "        vertical-align: top;\n",
              "    }\n",
              "\n",
              "    .dataframe thead th {\n",
              "        text-align: right;\n",
              "    }\n",
              "</style>\n",
              "<table border=\"1\" class=\"dataframe\">\n",
              "  <thead>\n",
              "    <tr style=\"text-align: right;\">\n",
              "      <th></th>\n",
              "      <th>ward</th>\n",
              "      <th>pop_2000</th>\n",
              "      <th>pop_2010</th>\n",
              "      <th>change</th>\n",
              "      <th>address</th>\n",
              "      <th>zip</th>\n",
              "    </tr>\n",
              "  </thead>\n",
              "  <tbody>\n",
              "    <tr>\n",
              "      <th>0</th>\n",
              "      <td>1</td>\n",
              "      <td>52951</td>\n",
              "      <td>56149</td>\n",
              "      <td>6%</td>\n",
              "      <td>2765 WEST SAINT MARY STREET</td>\n",
              "      <td>60647</td>\n",
              "    </tr>\n",
              "  </tbody>\n",
              "</table>\n",
              "</div>"
            ],
            "text/plain": [
              "  ward  pop_2000  pop_2010 change                      address    zip\n",
              "0    1     52951     56149     6%  2765 WEST SAINT MARY STREET  60647"
            ]
          },
          "metadata": {
            "tags": []
          },
          "execution_count": 5
        }
      ]
    },
    {
      "cell_type": "code",
      "metadata": {
        "colab": {
          "base_uri": "https://localhost:8080/",
          "height": 80
        },
        "id": "k3gqzuXZTsdl",
        "outputId": "cb36508f-df1b-4ab1-c62f-91f863ea7b9d"
      },
      "source": [
        "## join df\r\n",
        "df=ward.merge(census,on='ward',how='inner')\r\n",
        "df.head(1)"
      ],
      "execution_count": 7,
      "outputs": [
        {
          "output_type": "execute_result",
          "data": {
            "text/html": [
              "<div>\n",
              "<style scoped>\n",
              "    .dataframe tbody tr th:only-of-type {\n",
              "        vertical-align: middle;\n",
              "    }\n",
              "\n",
              "    .dataframe tbody tr th {\n",
              "        vertical-align: top;\n",
              "    }\n",
              "\n",
              "    .dataframe thead th {\n",
              "        text-align: right;\n",
              "    }\n",
              "</style>\n",
              "<table border=\"1\" class=\"dataframe\">\n",
              "  <thead>\n",
              "    <tr style=\"text-align: right;\">\n",
              "      <th></th>\n",
              "      <th>ward</th>\n",
              "      <th>alderman</th>\n",
              "      <th>address_x</th>\n",
              "      <th>zip_x</th>\n",
              "      <th>pop_2000</th>\n",
              "      <th>pop_2010</th>\n",
              "      <th>change</th>\n",
              "      <th>address_y</th>\n",
              "      <th>zip_y</th>\n",
              "    </tr>\n",
              "  </thead>\n",
              "  <tbody>\n",
              "    <tr>\n",
              "      <th>0</th>\n",
              "      <td>1</td>\n",
              "      <td>Proco \"Joe\" Moreno</td>\n",
              "      <td>2058 NORTH WESTERN AVENUE</td>\n",
              "      <td>60647</td>\n",
              "      <td>52951</td>\n",
              "      <td>56149</td>\n",
              "      <td>6%</td>\n",
              "      <td>2765 WEST SAINT MARY STREET</td>\n",
              "      <td>60647</td>\n",
              "    </tr>\n",
              "  </tbody>\n",
              "</table>\n",
              "</div>"
            ],
            "text/plain": [
              "  ward            alderman  ...                    address_y  zip_y\n",
              "0    1  Proco \"Joe\" Moreno  ...  2765 WEST SAINT MARY STREET  60647\n",
              "\n",
              "[1 rows x 9 columns]"
            ]
          },
          "metadata": {
            "tags": []
          },
          "execution_count": 7
        }
      ]
    },
    {
      "cell_type": "code",
      "metadata": {
        "colab": {
          "base_uri": "https://localhost:8080/",
          "height": 80
        },
        "id": "3CP9jJbcTzPt",
        "outputId": "864e9d57-b6a1-48ba-ff25-8a845aa090f5"
      },
      "source": [
        "## use suffix\r\n",
        "df=ward.merge(census,on='ward',how='inner',suffixes=['_ward','_census'])\r\n",
        "df.head(1)"
      ],
      "execution_count": 8,
      "outputs": [
        {
          "output_type": "execute_result",
          "data": {
            "text/html": [
              "<div>\n",
              "<style scoped>\n",
              "    .dataframe tbody tr th:only-of-type {\n",
              "        vertical-align: middle;\n",
              "    }\n",
              "\n",
              "    .dataframe tbody tr th {\n",
              "        vertical-align: top;\n",
              "    }\n",
              "\n",
              "    .dataframe thead th {\n",
              "        text-align: right;\n",
              "    }\n",
              "</style>\n",
              "<table border=\"1\" class=\"dataframe\">\n",
              "  <thead>\n",
              "    <tr style=\"text-align: right;\">\n",
              "      <th></th>\n",
              "      <th>ward</th>\n",
              "      <th>alderman</th>\n",
              "      <th>address_ward</th>\n",
              "      <th>zip_ward</th>\n",
              "      <th>pop_2000</th>\n",
              "      <th>pop_2010</th>\n",
              "      <th>change</th>\n",
              "      <th>address_census</th>\n",
              "      <th>zip_census</th>\n",
              "    </tr>\n",
              "  </thead>\n",
              "  <tbody>\n",
              "    <tr>\n",
              "      <th>0</th>\n",
              "      <td>1</td>\n",
              "      <td>Proco \"Joe\" Moreno</td>\n",
              "      <td>2058 NORTH WESTERN AVENUE</td>\n",
              "      <td>60647</td>\n",
              "      <td>52951</td>\n",
              "      <td>56149</td>\n",
              "      <td>6%</td>\n",
              "      <td>2765 WEST SAINT MARY STREET</td>\n",
              "      <td>60647</td>\n",
              "    </tr>\n",
              "  </tbody>\n",
              "</table>\n",
              "</div>"
            ],
            "text/plain": [
              "  ward            alderman  ...               address_census zip_census\n",
              "0    1  Proco \"Joe\" Moreno  ...  2765 WEST SAINT MARY STREET      60647\n",
              "\n",
              "[1 rows x 9 columns]"
            ]
          },
          "metadata": {
            "tags": []
          },
          "execution_count": 8
        }
      ]
    },
    {
      "cell_type": "code",
      "metadata": {
        "colab": {
          "base_uri": "https://localhost:8080/"
        },
        "id": "g786_aSYT6Zf",
        "outputId": "dd5c0536-49fb-484d-917b-0a5dc9b7d8f1"
      },
      "source": [
        "df.shape"
      ],
      "execution_count": 9,
      "outputs": [
        {
          "output_type": "execute_result",
          "data": {
            "text/plain": [
              "(50, 9)"
            ]
          },
          "metadata": {
            "tags": []
          },
          "execution_count": 9
        }
      ]
    },
    {
      "cell_type": "code",
      "metadata": {
        "id": "ZDnSuWbqUFIV"
      },
      "source": [
        "licenses=pd.read_pickle('/content/drive/MyDrive/Colab/Data/Joining Data with pandas/licenses.p')"
      ],
      "execution_count": 10,
      "outputs": []
    },
    {
      "cell_type": "code",
      "metadata": {
        "colab": {
          "base_uri": "https://localhost:8080/",
          "height": 114
        },
        "id": "ieQDZjB5VWNG",
        "outputId": "4f62828e-73bb-4ed5-99f9-4034d989673e"
      },
      "source": [
        "## three way merge\r\n",
        "df=ward.merge(census,on='ward',how='inner').merge(licenses,on='ward',how='inner',suffixes=['_ward','_licenses'])\r\n",
        "df.head(1)"
      ],
      "execution_count": 15,
      "outputs": [
        {
          "output_type": "execute_result",
          "data": {
            "text/html": [
              "<div>\n",
              "<style scoped>\n",
              "    .dataframe tbody tr th:only-of-type {\n",
              "        vertical-align: middle;\n",
              "    }\n",
              "\n",
              "    .dataframe tbody tr th {\n",
              "        vertical-align: top;\n",
              "    }\n",
              "\n",
              "    .dataframe thead th {\n",
              "        text-align: right;\n",
              "    }\n",
              "</style>\n",
              "<table border=\"1\" class=\"dataframe\">\n",
              "  <thead>\n",
              "    <tr style=\"text-align: right;\">\n",
              "      <th></th>\n",
              "      <th>ward</th>\n",
              "      <th>alderman</th>\n",
              "      <th>address_x</th>\n",
              "      <th>zip_x</th>\n",
              "      <th>pop_2000</th>\n",
              "      <th>pop_2010</th>\n",
              "      <th>change</th>\n",
              "      <th>address_y</th>\n",
              "      <th>zip_y</th>\n",
              "      <th>account</th>\n",
              "      <th>aid</th>\n",
              "      <th>business</th>\n",
              "      <th>address</th>\n",
              "      <th>zip</th>\n",
              "    </tr>\n",
              "  </thead>\n",
              "  <tbody>\n",
              "    <tr>\n",
              "      <th>0</th>\n",
              "      <td>1</td>\n",
              "      <td>Proco \"Joe\" Moreno</td>\n",
              "      <td>2058 NORTH WESTERN AVENUE</td>\n",
              "      <td>60647</td>\n",
              "      <td>52951</td>\n",
              "      <td>56149</td>\n",
              "      <td>6%</td>\n",
              "      <td>2765 WEST SAINT MARY STREET</td>\n",
              "      <td>60647</td>\n",
              "      <td>12024</td>\n",
              "      <td>NaN</td>\n",
              "      <td>DIGILOG ELECTRONICS</td>\n",
              "      <td>1038 N ASHLAND AVE</td>\n",
              "      <td>60622</td>\n",
              "    </tr>\n",
              "  </tbody>\n",
              "</table>\n",
              "</div>"
            ],
            "text/plain": [
              "  ward            alderman  ...             address    zip\n",
              "0    1  Proco \"Joe\" Moreno  ...  1038 N ASHLAND AVE  60622\n",
              "\n",
              "[1 rows x 14 columns]"
            ]
          },
          "metadata": {
            "tags": []
          },
          "execution_count": 15
        }
      ]
    },
    {
      "cell_type": "code",
      "metadata": {
        "id": "9N45tSEeVim1"
      },
      "source": [
        "stations=pd.read_pickle('/content/drive/MyDrive/Colab/Data/Joining Data with pandas/stations.p')\r\n",
        "cal=pd.read_pickle('/content/drive/MyDrive/Colab/Data/Joining Data with pandas/cta_calendar.p')\r\n",
        "rides=pd.read_pickle('/content/drive/MyDrive/Colab/Data/Joining Data with pandas/cta_ridership.p')"
      ],
      "execution_count": 17,
      "outputs": []
    },
    {
      "cell_type": "code",
      "metadata": {
        "colab": {
          "base_uri": "https://localhost:8080/",
          "height": 80
        },
        "id": "H3JWh64JWb_g",
        "outputId": "a0b4bde1-70c3-4981-b1cd-fc7cd0c0025e"
      },
      "source": [
        "ridership_cal=rides.merge(cal,on='day',suffixes=['_rides','_cal']).merge(stations,on='station_id')\r\n",
        "ridership_cal.head(1)"
      ],
      "execution_count": 22,
      "outputs": [
        {
          "output_type": "execute_result",
          "data": {
            "text/html": [
              "<div>\n",
              "<style scoped>\n",
              "    .dataframe tbody tr th:only-of-type {\n",
              "        vertical-align: middle;\n",
              "    }\n",
              "\n",
              "    .dataframe tbody tr th {\n",
              "        vertical-align: top;\n",
              "    }\n",
              "\n",
              "    .dataframe thead th {\n",
              "        text-align: right;\n",
              "    }\n",
              "</style>\n",
              "<table border=\"1\" class=\"dataframe\">\n",
              "  <thead>\n",
              "    <tr style=\"text-align: right;\">\n",
              "      <th></th>\n",
              "      <th>station_id</th>\n",
              "      <th>year_rides</th>\n",
              "      <th>month_rides</th>\n",
              "      <th>day</th>\n",
              "      <th>rides</th>\n",
              "      <th>year_cal</th>\n",
              "      <th>month_cal</th>\n",
              "      <th>day_type</th>\n",
              "      <th>station_name</th>\n",
              "      <th>location</th>\n",
              "    </tr>\n",
              "  </thead>\n",
              "  <tbody>\n",
              "    <tr>\n",
              "      <th>0</th>\n",
              "      <td>40010</td>\n",
              "      <td>2019</td>\n",
              "      <td>1</td>\n",
              "      <td>1</td>\n",
              "      <td>576</td>\n",
              "      <td>2019</td>\n",
              "      <td>1</td>\n",
              "      <td>Sunday/Holiday</td>\n",
              "      <td>Austin-Forest Park</td>\n",
              "      <td>(41.870851, -87.776812)</td>\n",
              "    </tr>\n",
              "  </tbody>\n",
              "</table>\n",
              "</div>"
            ],
            "text/plain": [
              "  station_id  year_rides  ...        station_name                 location\n",
              "0      40010        2019  ...  Austin-Forest Park  (41.870851, -87.776812)\n",
              "\n",
              "[1 rows x 10 columns]"
            ]
          },
          "metadata": {
            "tags": []
          },
          "execution_count": 22
        }
      ]
    },
    {
      "cell_type": "code",
      "metadata": {
        "colab": {
          "base_uri": "https://localhost:8080/",
          "height": 117
        },
        "id": "sTj8Jqo8WoOV",
        "outputId": "e1dfdaca-8c3c-4913-dcb3-dec0fcd38d70"
      },
      "source": [
        "## self join\r\n",
        "df=ridership_cal.merge(ridership_cal,on='day',how='left')\r\n",
        "df.head(1)"
      ],
      "execution_count": 23,
      "outputs": [
        {
          "output_type": "execute_result",
          "data": {
            "text/html": [
              "<div>\n",
              "<style scoped>\n",
              "    .dataframe tbody tr th:only-of-type {\n",
              "        vertical-align: middle;\n",
              "    }\n",
              "\n",
              "    .dataframe tbody tr th {\n",
              "        vertical-align: top;\n",
              "    }\n",
              "\n",
              "    .dataframe thead th {\n",
              "        text-align: right;\n",
              "    }\n",
              "</style>\n",
              "<table border=\"1\" class=\"dataframe\">\n",
              "  <thead>\n",
              "    <tr style=\"text-align: right;\">\n",
              "      <th></th>\n",
              "      <th>station_id_x</th>\n",
              "      <th>year_rides_x</th>\n",
              "      <th>month_rides_x</th>\n",
              "      <th>day</th>\n",
              "      <th>rides_x</th>\n",
              "      <th>year_cal_x</th>\n",
              "      <th>month_cal_x</th>\n",
              "      <th>day_type_x</th>\n",
              "      <th>station_name_x</th>\n",
              "      <th>location_x</th>\n",
              "      <th>station_id_y</th>\n",
              "      <th>year_rides_y</th>\n",
              "      <th>month_rides_y</th>\n",
              "      <th>rides_y</th>\n",
              "      <th>year_cal_y</th>\n",
              "      <th>month_cal_y</th>\n",
              "      <th>day_type_y</th>\n",
              "      <th>station_name_y</th>\n",
              "      <th>location_y</th>\n",
              "    </tr>\n",
              "  </thead>\n",
              "  <tbody>\n",
              "    <tr>\n",
              "      <th>0</th>\n",
              "      <td>40010</td>\n",
              "      <td>2019</td>\n",
              "      <td>1</td>\n",
              "      <td>1</td>\n",
              "      <td>576</td>\n",
              "      <td>2019</td>\n",
              "      <td>1</td>\n",
              "      <td>Sunday/Holiday</td>\n",
              "      <td>Austin-Forest Park</td>\n",
              "      <td>(41.870851, -87.776812)</td>\n",
              "      <td>40010</td>\n",
              "      <td>2019</td>\n",
              "      <td>1</td>\n",
              "      <td>576</td>\n",
              "      <td>2019</td>\n",
              "      <td>1</td>\n",
              "      <td>Sunday/Holiday</td>\n",
              "      <td>Austin-Forest Park</td>\n",
              "      <td>(41.870851, -87.776812)</td>\n",
              "    </tr>\n",
              "  </tbody>\n",
              "</table>\n",
              "</div>"
            ],
            "text/plain": [
              "  station_id_x  year_rides_x  ...      station_name_y               location_y\n",
              "0        40010          2019  ...  Austin-Forest Park  (41.870851, -87.776812)\n",
              "\n",
              "[1 rows x 19 columns]"
            ]
          },
          "metadata": {
            "tags": []
          },
          "execution_count": 23
        }
      ]
    },
    {
      "cell_type": "code",
      "metadata": {
        "id": "j5BHLUfdZqXL"
      },
      "source": [
        "movies=pd.read_pickle('/content/drive/MyDrive/Colab/Data/Joining Data with pandas/movies.p')\r\n",
        "sequels=pd.read_pickle('/content/drive/MyDrive/Colab/Data/Joining Data with pandas/sequels.p')"
      ],
      "execution_count": 27,
      "outputs": []
    },
    {
      "cell_type": "code",
      "metadata": {
        "colab": {
          "base_uri": "https://localhost:8080/",
          "height": 80
        },
        "id": "hp1y8uPkbiHU",
        "outputId": "e2aa0ab4-00ff-4e38-8930-65c6c178bc8e"
      },
      "source": [
        "sequels.head(1)"
      ],
      "execution_count": 30,
      "outputs": [
        {
          "output_type": "execute_result",
          "data": {
            "text/html": [
              "<div>\n",
              "<style scoped>\n",
              "    .dataframe tbody tr th:only-of-type {\n",
              "        vertical-align: middle;\n",
              "    }\n",
              "\n",
              "    .dataframe tbody tr th {\n",
              "        vertical-align: top;\n",
              "    }\n",
              "\n",
              "    .dataframe thead th {\n",
              "        text-align: right;\n",
              "    }\n",
              "</style>\n",
              "<table border=\"1\" class=\"dataframe\">\n",
              "  <thead>\n",
              "    <tr style=\"text-align: right;\">\n",
              "      <th></th>\n",
              "      <th>id</th>\n",
              "      <th>title</th>\n",
              "      <th>sequel</th>\n",
              "    </tr>\n",
              "  </thead>\n",
              "  <tbody>\n",
              "    <tr>\n",
              "      <th>0</th>\n",
              "      <td>19995</td>\n",
              "      <td>Avatar</td>\n",
              "      <td>&lt;NA&gt;</td>\n",
              "    </tr>\n",
              "  </tbody>\n",
              "</table>\n",
              "</div>"
            ],
            "text/plain": [
              "      id   title  sequel\n",
              "0  19995  Avatar    <NA>"
            ]
          },
          "metadata": {
            "tags": []
          },
          "execution_count": 30
        }
      ]
    },
    {
      "cell_type": "code",
      "metadata": {
        "colab": {
          "base_uri": "https://localhost:8080/",
          "height": 419
        },
        "id": "cV4EUQunbjsf",
        "outputId": "fc7f9e6e-ee27-4b26-ab59-98205e76602a"
      },
      "source": [
        "## find movies all their sequels in single row\r\n",
        "sequels.merge(sequels,left_on='sequel',right_on='id',how='left')"
      ],
      "execution_count": 31,
      "outputs": [
        {
          "output_type": "execute_result",
          "data": {
            "text/html": [
              "<div>\n",
              "<style scoped>\n",
              "    .dataframe tbody tr th:only-of-type {\n",
              "        vertical-align: middle;\n",
              "    }\n",
              "\n",
              "    .dataframe tbody tr th {\n",
              "        vertical-align: top;\n",
              "    }\n",
              "\n",
              "    .dataframe thead th {\n",
              "        text-align: right;\n",
              "    }\n",
              "</style>\n",
              "<table border=\"1\" class=\"dataframe\">\n",
              "  <thead>\n",
              "    <tr style=\"text-align: right;\">\n",
              "      <th></th>\n",
              "      <th>id_x</th>\n",
              "      <th>title_x</th>\n",
              "      <th>sequel_x</th>\n",
              "      <th>id_y</th>\n",
              "      <th>title_y</th>\n",
              "      <th>sequel_y</th>\n",
              "    </tr>\n",
              "  </thead>\n",
              "  <tbody>\n",
              "    <tr>\n",
              "      <th>0</th>\n",
              "      <td>19995</td>\n",
              "      <td>Avatar</td>\n",
              "      <td>&lt;NA&gt;</td>\n",
              "      <td>&lt;NA&gt;</td>\n",
              "      <td>NaN</td>\n",
              "      <td>&lt;NA&gt;</td>\n",
              "    </tr>\n",
              "    <tr>\n",
              "      <th>1</th>\n",
              "      <td>862</td>\n",
              "      <td>Toy Story</td>\n",
              "      <td>863</td>\n",
              "      <td>863</td>\n",
              "      <td>Toy Story 2</td>\n",
              "      <td>10193</td>\n",
              "    </tr>\n",
              "    <tr>\n",
              "      <th>2</th>\n",
              "      <td>863</td>\n",
              "      <td>Toy Story 2</td>\n",
              "      <td>10193</td>\n",
              "      <td>10193</td>\n",
              "      <td>Toy Story 3</td>\n",
              "      <td>&lt;NA&gt;</td>\n",
              "    </tr>\n",
              "    <tr>\n",
              "      <th>3</th>\n",
              "      <td>597</td>\n",
              "      <td>Titanic</td>\n",
              "      <td>&lt;NA&gt;</td>\n",
              "      <td>&lt;NA&gt;</td>\n",
              "      <td>NaN</td>\n",
              "      <td>&lt;NA&gt;</td>\n",
              "    </tr>\n",
              "    <tr>\n",
              "      <th>4</th>\n",
              "      <td>24428</td>\n",
              "      <td>The Avengers</td>\n",
              "      <td>&lt;NA&gt;</td>\n",
              "      <td>&lt;NA&gt;</td>\n",
              "      <td>NaN</td>\n",
              "      <td>&lt;NA&gt;</td>\n",
              "    </tr>\n",
              "    <tr>\n",
              "      <th>...</th>\n",
              "      <td>...</td>\n",
              "      <td>...</td>\n",
              "      <td>...</td>\n",
              "      <td>...</td>\n",
              "      <td>...</td>\n",
              "      <td>...</td>\n",
              "    </tr>\n",
              "    <tr>\n",
              "      <th>4798</th>\n",
              "      <td>133931</td>\n",
              "      <td>Zambezia</td>\n",
              "      <td>&lt;NA&gt;</td>\n",
              "      <td>&lt;NA&gt;</td>\n",
              "      <td>NaN</td>\n",
              "      <td>&lt;NA&gt;</td>\n",
              "    </tr>\n",
              "    <tr>\n",
              "      <th>4799</th>\n",
              "      <td>309503</td>\n",
              "      <td>Zipper</td>\n",
              "      <td>&lt;NA&gt;</td>\n",
              "      <td>&lt;NA&gt;</td>\n",
              "      <td>NaN</td>\n",
              "      <td>&lt;NA&gt;</td>\n",
              "    </tr>\n",
              "    <tr>\n",
              "      <th>4800</th>\n",
              "      <td>34592</td>\n",
              "      <td>ZMD: Zombies of Mass Destruction</td>\n",
              "      <td>&lt;NA&gt;</td>\n",
              "      <td>&lt;NA&gt;</td>\n",
              "      <td>NaN</td>\n",
              "      <td>&lt;NA&gt;</td>\n",
              "    </tr>\n",
              "    <tr>\n",
              "      <th>4801</th>\n",
              "      <td>206213</td>\n",
              "      <td>Zombie Hunter</td>\n",
              "      <td>&lt;NA&gt;</td>\n",
              "      <td>&lt;NA&gt;</td>\n",
              "      <td>NaN</td>\n",
              "      <td>&lt;NA&gt;</td>\n",
              "    </tr>\n",
              "    <tr>\n",
              "      <th>4802</th>\n",
              "      <td>185567</td>\n",
              "      <td>Zulu</td>\n",
              "      <td>&lt;NA&gt;</td>\n",
              "      <td>&lt;NA&gt;</td>\n",
              "      <td>NaN</td>\n",
              "      <td>&lt;NA&gt;</td>\n",
              "    </tr>\n",
              "  </tbody>\n",
              "</table>\n",
              "<p>4803 rows × 6 columns</p>\n",
              "</div>"
            ],
            "text/plain": [
              "        id_x                           title_x  ...      title_y  sequel_y\n",
              "0      19995                            Avatar  ...          NaN      <NA>\n",
              "1        862                         Toy Story  ...  Toy Story 2     10193\n",
              "2        863                       Toy Story 2  ...  Toy Story 3      <NA>\n",
              "3        597                           Titanic  ...          NaN      <NA>\n",
              "4      24428                      The Avengers  ...          NaN      <NA>\n",
              "...      ...                               ...  ...          ...       ...\n",
              "4798  133931                          Zambezia  ...          NaN      <NA>\n",
              "4799  309503                            Zipper  ...          NaN      <NA>\n",
              "4800   34592  ZMD: Zombies of Mass Destruction  ...          NaN      <NA>\n",
              "4801  206213                     Zombie Hunter  ...          NaN      <NA>\n",
              "4802  185567                              Zulu  ...          NaN      <NA>\n",
              "\n",
              "[4803 rows x 6 columns]"
            ]
          },
          "metadata": {
            "tags": []
          },
          "execution_count": 31
        }
      ]
    },
    {
      "cell_type": "code",
      "metadata": {
        "colab": {
          "base_uri": "https://localhost:8080/",
          "height": 419
        },
        "id": "m27VB4hib67_",
        "outputId": "e6fdb099-3942-43cf-fa98-f7b407c2395b"
      },
      "source": [
        "## semi join using isin on two tables\r\n",
        "sequels[sequels['id'].isin(movies['id'])]"
      ],
      "execution_count": 36,
      "outputs": [
        {
          "output_type": "execute_result",
          "data": {
            "text/html": [
              "<div>\n",
              "<style scoped>\n",
              "    .dataframe tbody tr th:only-of-type {\n",
              "        vertical-align: middle;\n",
              "    }\n",
              "\n",
              "    .dataframe tbody tr th {\n",
              "        vertical-align: top;\n",
              "    }\n",
              "\n",
              "    .dataframe thead th {\n",
              "        text-align: right;\n",
              "    }\n",
              "</style>\n",
              "<table border=\"1\" class=\"dataframe\">\n",
              "  <thead>\n",
              "    <tr style=\"text-align: right;\">\n",
              "      <th></th>\n",
              "      <th>id</th>\n",
              "      <th>title</th>\n",
              "      <th>sequel</th>\n",
              "    </tr>\n",
              "  </thead>\n",
              "  <tbody>\n",
              "    <tr>\n",
              "      <th>0</th>\n",
              "      <td>19995</td>\n",
              "      <td>Avatar</td>\n",
              "      <td>&lt;NA&gt;</td>\n",
              "    </tr>\n",
              "    <tr>\n",
              "      <th>1</th>\n",
              "      <td>862</td>\n",
              "      <td>Toy Story</td>\n",
              "      <td>863</td>\n",
              "    </tr>\n",
              "    <tr>\n",
              "      <th>2</th>\n",
              "      <td>863</td>\n",
              "      <td>Toy Story 2</td>\n",
              "      <td>10193</td>\n",
              "    </tr>\n",
              "    <tr>\n",
              "      <th>3</th>\n",
              "      <td>597</td>\n",
              "      <td>Titanic</td>\n",
              "      <td>&lt;NA&gt;</td>\n",
              "    </tr>\n",
              "    <tr>\n",
              "      <th>4</th>\n",
              "      <td>24428</td>\n",
              "      <td>The Avengers</td>\n",
              "      <td>&lt;NA&gt;</td>\n",
              "    </tr>\n",
              "    <tr>\n",
              "      <th>...</th>\n",
              "      <td>...</td>\n",
              "      <td>...</td>\n",
              "      <td>...</td>\n",
              "    </tr>\n",
              "    <tr>\n",
              "      <th>4798</th>\n",
              "      <td>133931</td>\n",
              "      <td>Zambezia</td>\n",
              "      <td>&lt;NA&gt;</td>\n",
              "    </tr>\n",
              "    <tr>\n",
              "      <th>4799</th>\n",
              "      <td>309503</td>\n",
              "      <td>Zipper</td>\n",
              "      <td>&lt;NA&gt;</td>\n",
              "    </tr>\n",
              "    <tr>\n",
              "      <th>4800</th>\n",
              "      <td>34592</td>\n",
              "      <td>ZMD: Zombies of Mass Destruction</td>\n",
              "      <td>&lt;NA&gt;</td>\n",
              "    </tr>\n",
              "    <tr>\n",
              "      <th>4801</th>\n",
              "      <td>206213</td>\n",
              "      <td>Zombie Hunter</td>\n",
              "      <td>&lt;NA&gt;</td>\n",
              "    </tr>\n",
              "    <tr>\n",
              "      <th>4802</th>\n",
              "      <td>185567</td>\n",
              "      <td>Zulu</td>\n",
              "      <td>&lt;NA&gt;</td>\n",
              "    </tr>\n",
              "  </tbody>\n",
              "</table>\n",
              "<p>4803 rows × 3 columns</p>\n",
              "</div>"
            ],
            "text/plain": [
              "          id                             title  sequel\n",
              "0      19995                            Avatar    <NA>\n",
              "1        862                         Toy Story     863\n",
              "2        863                       Toy Story 2   10193\n",
              "3        597                           Titanic    <NA>\n",
              "4      24428                      The Avengers    <NA>\n",
              "...      ...                               ...     ...\n",
              "4798  133931                          Zambezia    <NA>\n",
              "4799  309503                            Zipper    <NA>\n",
              "4800   34592  ZMD: Zombies of Mass Destruction    <NA>\n",
              "4801  206213                     Zombie Hunter    <NA>\n",
              "4802  185567                              Zulu    <NA>\n",
              "\n",
              "[4803 rows x 3 columns]"
            ]
          },
          "metadata": {
            "tags": []
          },
          "execution_count": 36
        }
      ]
    },
    {
      "cell_type": "code",
      "metadata": {
        "colab": {
          "base_uri": "https://localhost:8080/",
          "height": 204
        },
        "id": "QcBS9Rex2vrr",
        "outputId": "5def6d0d-f173-4543-94bb-8fc81799ccde"
      },
      "source": [
        "## concatenating\r\n",
        "sq1=sequels[:5]\r\n",
        "sq2=sequels[5:10]\r\n",
        "df=pd.concat([sq1,sq2])\r\n",
        "df.shape\r\n",
        "df.head(5)"
      ],
      "execution_count": 47,
      "outputs": [
        {
          "output_type": "execute_result",
          "data": {
            "text/html": [
              "<div>\n",
              "<style scoped>\n",
              "    .dataframe tbody tr th:only-of-type {\n",
              "        vertical-align: middle;\n",
              "    }\n",
              "\n",
              "    .dataframe tbody tr th {\n",
              "        vertical-align: top;\n",
              "    }\n",
              "\n",
              "    .dataframe thead th {\n",
              "        text-align: right;\n",
              "    }\n",
              "</style>\n",
              "<table border=\"1\" class=\"dataframe\">\n",
              "  <thead>\n",
              "    <tr style=\"text-align: right;\">\n",
              "      <th></th>\n",
              "      <th>id</th>\n",
              "      <th>title</th>\n",
              "      <th>sequel</th>\n",
              "    </tr>\n",
              "  </thead>\n",
              "  <tbody>\n",
              "    <tr>\n",
              "      <th>0</th>\n",
              "      <td>19995</td>\n",
              "      <td>Avatar</td>\n",
              "      <td>&lt;NA&gt;</td>\n",
              "    </tr>\n",
              "    <tr>\n",
              "      <th>1</th>\n",
              "      <td>862</td>\n",
              "      <td>Toy Story</td>\n",
              "      <td>863</td>\n",
              "    </tr>\n",
              "    <tr>\n",
              "      <th>2</th>\n",
              "      <td>863</td>\n",
              "      <td>Toy Story 2</td>\n",
              "      <td>10193</td>\n",
              "    </tr>\n",
              "    <tr>\n",
              "      <th>3</th>\n",
              "      <td>597</td>\n",
              "      <td>Titanic</td>\n",
              "      <td>&lt;NA&gt;</td>\n",
              "    </tr>\n",
              "    <tr>\n",
              "      <th>4</th>\n",
              "      <td>24428</td>\n",
              "      <td>The Avengers</td>\n",
              "      <td>&lt;NA&gt;</td>\n",
              "    </tr>\n",
              "  </tbody>\n",
              "</table>\n",
              "</div>"
            ],
            "text/plain": [
              "      id         title  sequel\n",
              "0  19995        Avatar    <NA>\n",
              "1    862     Toy Story     863\n",
              "2    863   Toy Story 2   10193\n",
              "3    597       Titanic    <NA>\n",
              "4  24428  The Avengers    <NA>"
            ]
          },
          "metadata": {
            "tags": []
          },
          "execution_count": 47
        }
      ]
    },
    {
      "cell_type": "code",
      "metadata": {
        "colab": {
          "base_uri": "https://localhost:8080/",
          "height": 204
        },
        "id": "ygsxjA_T3SRY",
        "outputId": "95ef352d-e58b-4367-acf7-a826b42d8f36"
      },
      "source": [
        "## ignore index to maintain natural index range\r\n",
        "df=pd.concat([sq1,sq2],ignore_index=True)\r\n",
        "df.head(5)"
      ],
      "execution_count": 48,
      "outputs": [
        {
          "output_type": "execute_result",
          "data": {
            "text/html": [
              "<div>\n",
              "<style scoped>\n",
              "    .dataframe tbody tr th:only-of-type {\n",
              "        vertical-align: middle;\n",
              "    }\n",
              "\n",
              "    .dataframe tbody tr th {\n",
              "        vertical-align: top;\n",
              "    }\n",
              "\n",
              "    .dataframe thead th {\n",
              "        text-align: right;\n",
              "    }\n",
              "</style>\n",
              "<table border=\"1\" class=\"dataframe\">\n",
              "  <thead>\n",
              "    <tr style=\"text-align: right;\">\n",
              "      <th></th>\n",
              "      <th>id</th>\n",
              "      <th>title</th>\n",
              "      <th>sequel</th>\n",
              "    </tr>\n",
              "  </thead>\n",
              "  <tbody>\n",
              "    <tr>\n",
              "      <th>0</th>\n",
              "      <td>19995</td>\n",
              "      <td>Avatar</td>\n",
              "      <td>&lt;NA&gt;</td>\n",
              "    </tr>\n",
              "    <tr>\n",
              "      <th>1</th>\n",
              "      <td>862</td>\n",
              "      <td>Toy Story</td>\n",
              "      <td>863</td>\n",
              "    </tr>\n",
              "    <tr>\n",
              "      <th>2</th>\n",
              "      <td>863</td>\n",
              "      <td>Toy Story 2</td>\n",
              "      <td>10193</td>\n",
              "    </tr>\n",
              "    <tr>\n",
              "      <th>3</th>\n",
              "      <td>597</td>\n",
              "      <td>Titanic</td>\n",
              "      <td>&lt;NA&gt;</td>\n",
              "    </tr>\n",
              "    <tr>\n",
              "      <th>4</th>\n",
              "      <td>24428</td>\n",
              "      <td>The Avengers</td>\n",
              "      <td>&lt;NA&gt;</td>\n",
              "    </tr>\n",
              "  </tbody>\n",
              "</table>\n",
              "</div>"
            ],
            "text/plain": [
              "      id         title  sequel\n",
              "0  19995        Avatar    <NA>\n",
              "1    862     Toy Story     863\n",
              "2    863   Toy Story 2   10193\n",
              "3    597       Titanic    <NA>\n",
              "4  24428  The Avengers    <NA>"
            ]
          },
          "metadata": {
            "tags": []
          },
          "execution_count": 48
        }
      ]
    },
    {
      "cell_type": "code",
      "metadata": {
        "colab": {
          "base_uri": "https://localhost:8080/",
          "height": 359
        },
        "id": "p1sfC2uD3uMg",
        "outputId": "75b1863c-5c84-4f5e-9a90-5e3e31c46701"
      },
      "source": [
        "## use keys to separately show different dataframes\r\n",
        "df=pd.concat([sq1,sq2],ignore_index=False,keys=['sq1','sq2'])\r\n",
        "df"
      ],
      "execution_count": 53,
      "outputs": [
        {
          "output_type": "execute_result",
          "data": {
            "text/html": [
              "<div>\n",
              "<style scoped>\n",
              "    .dataframe tbody tr th:only-of-type {\n",
              "        vertical-align: middle;\n",
              "    }\n",
              "\n",
              "    .dataframe tbody tr th {\n",
              "        vertical-align: top;\n",
              "    }\n",
              "\n",
              "    .dataframe thead th {\n",
              "        text-align: right;\n",
              "    }\n",
              "</style>\n",
              "<table border=\"1\" class=\"dataframe\">\n",
              "  <thead>\n",
              "    <tr style=\"text-align: right;\">\n",
              "      <th></th>\n",
              "      <th></th>\n",
              "      <th>id</th>\n",
              "      <th>title</th>\n",
              "      <th>sequel</th>\n",
              "    </tr>\n",
              "  </thead>\n",
              "  <tbody>\n",
              "    <tr>\n",
              "      <th rowspan=\"5\" valign=\"top\">sq1</th>\n",
              "      <th>0</th>\n",
              "      <td>19995</td>\n",
              "      <td>Avatar</td>\n",
              "      <td>&lt;NA&gt;</td>\n",
              "    </tr>\n",
              "    <tr>\n",
              "      <th>1</th>\n",
              "      <td>862</td>\n",
              "      <td>Toy Story</td>\n",
              "      <td>863</td>\n",
              "    </tr>\n",
              "    <tr>\n",
              "      <th>2</th>\n",
              "      <td>863</td>\n",
              "      <td>Toy Story 2</td>\n",
              "      <td>10193</td>\n",
              "    </tr>\n",
              "    <tr>\n",
              "      <th>3</th>\n",
              "      <td>597</td>\n",
              "      <td>Titanic</td>\n",
              "      <td>&lt;NA&gt;</td>\n",
              "    </tr>\n",
              "    <tr>\n",
              "      <th>4</th>\n",
              "      <td>24428</td>\n",
              "      <td>The Avengers</td>\n",
              "      <td>&lt;NA&gt;</td>\n",
              "    </tr>\n",
              "    <tr>\n",
              "      <th rowspan=\"5\" valign=\"top\">sq2</th>\n",
              "      <th>5</th>\n",
              "      <td>135397</td>\n",
              "      <td>Jurassic World</td>\n",
              "      <td>&lt;NA&gt;</td>\n",
              "    </tr>\n",
              "    <tr>\n",
              "      <th>6</th>\n",
              "      <td>168259</td>\n",
              "      <td>Furious 7</td>\n",
              "      <td>&lt;NA&gt;</td>\n",
              "    </tr>\n",
              "    <tr>\n",
              "      <th>7</th>\n",
              "      <td>99861</td>\n",
              "      <td>Avengers: Age of Ultron</td>\n",
              "      <td>&lt;NA&gt;</td>\n",
              "    </tr>\n",
              "    <tr>\n",
              "      <th>8</th>\n",
              "      <td>109445</td>\n",
              "      <td>Frozen</td>\n",
              "      <td>&lt;NA&gt;</td>\n",
              "    </tr>\n",
              "    <tr>\n",
              "      <th>9</th>\n",
              "      <td>68721</td>\n",
              "      <td>Iron Man 3</td>\n",
              "      <td>&lt;NA&gt;</td>\n",
              "    </tr>\n",
              "  </tbody>\n",
              "</table>\n",
              "</div>"
            ],
            "text/plain": [
              "           id                    title  sequel\n",
              "sq1 0   19995                   Avatar    <NA>\n",
              "    1     862                Toy Story     863\n",
              "    2     863              Toy Story 2   10193\n",
              "    3     597                  Titanic    <NA>\n",
              "    4   24428             The Avengers    <NA>\n",
              "sq2 5  135397           Jurassic World    <NA>\n",
              "    6  168259                Furious 7    <NA>\n",
              "    7   99861  Avengers: Age of Ultron    <NA>\n",
              "    8  109445                   Frozen    <NA>\n",
              "    9   68721               Iron Man 3    <NA>"
            ]
          },
          "metadata": {
            "tags": []
          },
          "execution_count": 53
        }
      ]
    },
    {
      "cell_type": "code",
      "metadata": {
        "colab": {
          "base_uri": "https://localhost:8080/",
          "height": 359
        },
        "id": "q4BpRlCrA5AD",
        "outputId": "5946c1b2-5845-4e9a-db4f-78795e808f6a"
      },
      "source": [
        "## concatenating with different columns numbers , pandas automatically adds n/a values\r\n",
        "sq1=sequels[:5]\r\n",
        "sq2=sequels[['id','title']][5:10]\r\n",
        "df=pd.concat([sq1,sq2])\r\n",
        "df"
      ],
      "execution_count": 56,
      "outputs": [
        {
          "output_type": "execute_result",
          "data": {
            "text/html": [
              "<div>\n",
              "<style scoped>\n",
              "    .dataframe tbody tr th:only-of-type {\n",
              "        vertical-align: middle;\n",
              "    }\n",
              "\n",
              "    .dataframe tbody tr th {\n",
              "        vertical-align: top;\n",
              "    }\n",
              "\n",
              "    .dataframe thead th {\n",
              "        text-align: right;\n",
              "    }\n",
              "</style>\n",
              "<table border=\"1\" class=\"dataframe\">\n",
              "  <thead>\n",
              "    <tr style=\"text-align: right;\">\n",
              "      <th></th>\n",
              "      <th>id</th>\n",
              "      <th>title</th>\n",
              "      <th>sequel</th>\n",
              "    </tr>\n",
              "  </thead>\n",
              "  <tbody>\n",
              "    <tr>\n",
              "      <th>0</th>\n",
              "      <td>19995</td>\n",
              "      <td>Avatar</td>\n",
              "      <td>&lt;NA&gt;</td>\n",
              "    </tr>\n",
              "    <tr>\n",
              "      <th>1</th>\n",
              "      <td>862</td>\n",
              "      <td>Toy Story</td>\n",
              "      <td>863</td>\n",
              "    </tr>\n",
              "    <tr>\n",
              "      <th>2</th>\n",
              "      <td>863</td>\n",
              "      <td>Toy Story 2</td>\n",
              "      <td>10193</td>\n",
              "    </tr>\n",
              "    <tr>\n",
              "      <th>3</th>\n",
              "      <td>597</td>\n",
              "      <td>Titanic</td>\n",
              "      <td>&lt;NA&gt;</td>\n",
              "    </tr>\n",
              "    <tr>\n",
              "      <th>4</th>\n",
              "      <td>24428</td>\n",
              "      <td>The Avengers</td>\n",
              "      <td>&lt;NA&gt;</td>\n",
              "    </tr>\n",
              "    <tr>\n",
              "      <th>5</th>\n",
              "      <td>135397</td>\n",
              "      <td>Jurassic World</td>\n",
              "      <td>&lt;NA&gt;</td>\n",
              "    </tr>\n",
              "    <tr>\n",
              "      <th>6</th>\n",
              "      <td>168259</td>\n",
              "      <td>Furious 7</td>\n",
              "      <td>&lt;NA&gt;</td>\n",
              "    </tr>\n",
              "    <tr>\n",
              "      <th>7</th>\n",
              "      <td>99861</td>\n",
              "      <td>Avengers: Age of Ultron</td>\n",
              "      <td>&lt;NA&gt;</td>\n",
              "    </tr>\n",
              "    <tr>\n",
              "      <th>8</th>\n",
              "      <td>109445</td>\n",
              "      <td>Frozen</td>\n",
              "      <td>&lt;NA&gt;</td>\n",
              "    </tr>\n",
              "    <tr>\n",
              "      <th>9</th>\n",
              "      <td>68721</td>\n",
              "      <td>Iron Man 3</td>\n",
              "      <td>&lt;NA&gt;</td>\n",
              "    </tr>\n",
              "  </tbody>\n",
              "</table>\n",
              "</div>"
            ],
            "text/plain": [
              "       id                    title  sequel\n",
              "0   19995                   Avatar    <NA>\n",
              "1     862                Toy Story     863\n",
              "2     863              Toy Story 2   10193\n",
              "3     597                  Titanic    <NA>\n",
              "4   24428             The Avengers    <NA>\n",
              "5  135397           Jurassic World    <NA>\n",
              "6  168259                Furious 7    <NA>\n",
              "7   99861  Avengers: Age of Ultron    <NA>\n",
              "8  109445                   Frozen    <NA>\n",
              "9   68721               Iron Man 3    <NA>"
            ]
          },
          "metadata": {
            "tags": []
          },
          "execution_count": 56
        }
      ]
    },
    {
      "cell_type": "code",
      "metadata": {
        "colab": {
          "base_uri": "https://localhost:8080/",
          "height": 359
        },
        "id": "KzAbe_scB8HB",
        "outputId": "42af91aa-4c80-4d34-c01b-dd3966fb23f7"
      },
      "source": [
        "## add join condition to concatenate only matching columns\r\n",
        "sq1=sequels[:5]\r\n",
        "sq2=sequels[['id','title']][5:10]\r\n",
        "df=pd.concat([sq1,sq2],join='inner')\r\n",
        "df"
      ],
      "execution_count": 59,
      "outputs": [
        {
          "output_type": "execute_result",
          "data": {
            "text/html": [
              "<div>\n",
              "<style scoped>\n",
              "    .dataframe tbody tr th:only-of-type {\n",
              "        vertical-align: middle;\n",
              "    }\n",
              "\n",
              "    .dataframe tbody tr th {\n",
              "        vertical-align: top;\n",
              "    }\n",
              "\n",
              "    .dataframe thead th {\n",
              "        text-align: right;\n",
              "    }\n",
              "</style>\n",
              "<table border=\"1\" class=\"dataframe\">\n",
              "  <thead>\n",
              "    <tr style=\"text-align: right;\">\n",
              "      <th></th>\n",
              "      <th>id</th>\n",
              "      <th>title</th>\n",
              "    </tr>\n",
              "  </thead>\n",
              "  <tbody>\n",
              "    <tr>\n",
              "      <th>0</th>\n",
              "      <td>19995</td>\n",
              "      <td>Avatar</td>\n",
              "    </tr>\n",
              "    <tr>\n",
              "      <th>1</th>\n",
              "      <td>862</td>\n",
              "      <td>Toy Story</td>\n",
              "    </tr>\n",
              "    <tr>\n",
              "      <th>2</th>\n",
              "      <td>863</td>\n",
              "      <td>Toy Story 2</td>\n",
              "    </tr>\n",
              "    <tr>\n",
              "      <th>3</th>\n",
              "      <td>597</td>\n",
              "      <td>Titanic</td>\n",
              "    </tr>\n",
              "    <tr>\n",
              "      <th>4</th>\n",
              "      <td>24428</td>\n",
              "      <td>The Avengers</td>\n",
              "    </tr>\n",
              "    <tr>\n",
              "      <th>5</th>\n",
              "      <td>135397</td>\n",
              "      <td>Jurassic World</td>\n",
              "    </tr>\n",
              "    <tr>\n",
              "      <th>6</th>\n",
              "      <td>168259</td>\n",
              "      <td>Furious 7</td>\n",
              "    </tr>\n",
              "    <tr>\n",
              "      <th>7</th>\n",
              "      <td>99861</td>\n",
              "      <td>Avengers: Age of Ultron</td>\n",
              "    </tr>\n",
              "    <tr>\n",
              "      <th>8</th>\n",
              "      <td>109445</td>\n",
              "      <td>Frozen</td>\n",
              "    </tr>\n",
              "    <tr>\n",
              "      <th>9</th>\n",
              "      <td>68721</td>\n",
              "      <td>Iron Man 3</td>\n",
              "    </tr>\n",
              "  </tbody>\n",
              "</table>\n",
              "</div>"
            ],
            "text/plain": [
              "       id                    title\n",
              "0   19995                   Avatar\n",
              "1     862                Toy Story\n",
              "2     863              Toy Story 2\n",
              "3     597                  Titanic\n",
              "4   24428             The Avengers\n",
              "5  135397           Jurassic World\n",
              "6  168259                Furious 7\n",
              "7   99861  Avengers: Age of Ultron\n",
              "8  109445                   Frozen\n",
              "9   68721               Iron Man 3"
            ]
          },
          "metadata": {
            "tags": []
          },
          "execution_count": 59
        }
      ]
    },
    {
      "cell_type": "code",
      "metadata": {
        "colab": {
          "base_uri": "https://localhost:8080/",
          "height": 49
        },
        "id": "NAwk6i6SCRe_",
        "outputId": "146130a6-67b4-4194-e223-67c6931dcd0b"
      },
      "source": [
        "## verifying integerity, pandas merge can be used to validate one to one , one to many conditions.\r\n",
        "sq1.merge(sq2,on='id',validate='one_to_one')"
      ],
      "execution_count": 61,
      "outputs": [
        {
          "output_type": "execute_result",
          "data": {
            "text/html": [
              "<div>\n",
              "<style scoped>\n",
              "    .dataframe tbody tr th:only-of-type {\n",
              "        vertical-align: middle;\n",
              "    }\n",
              "\n",
              "    .dataframe tbody tr th {\n",
              "        vertical-align: top;\n",
              "    }\n",
              "\n",
              "    .dataframe thead th {\n",
              "        text-align: right;\n",
              "    }\n",
              "</style>\n",
              "<table border=\"1\" class=\"dataframe\">\n",
              "  <thead>\n",
              "    <tr style=\"text-align: right;\">\n",
              "      <th></th>\n",
              "      <th>id</th>\n",
              "      <th>title_x</th>\n",
              "      <th>sequel</th>\n",
              "      <th>title_y</th>\n",
              "    </tr>\n",
              "  </thead>\n",
              "  <tbody>\n",
              "  </tbody>\n",
              "</table>\n",
              "</div>"
            ],
            "text/plain": [
              "Empty DataFrame\n",
              "Columns: [id, title_x, sequel, title_y]\n",
              "Index: []"
            ]
          },
          "metadata": {
            "tags": []
          },
          "execution_count": 61
        }
      ]
    },
    {
      "cell_type": "markdown",
      "metadata": {
        "id": "r-gMpEZ4D3Hu"
      },
      "source": [
        "![Capture.PNG](data:image/png;base64,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)"
      ]
    },
    {
      "cell_type": "code",
      "metadata": {
        "colab": {
          "base_uri": "https://localhost:8080/",
          "height": 204
        },
        "id": "XkYhMbaRDJQa",
        "outputId": "24753e13-6330-4a79-9556-87ad936d3348"
      },
      "source": [
        "## use merge ordered to merge and sort at same time. Default join type is outer.\r\n",
        "df=pd.read_csv('/content/drive/MyDrive/Colab/Data/Joining Data with pandas/S&P500.csv')\r\n",
        "df.head(5)"
      ],
      "execution_count": 63,
      "outputs": [
        {
          "output_type": "execute_result",
          "data": {
            "text/html": [
              "<div>\n",
              "<style scoped>\n",
              "    .dataframe tbody tr th:only-of-type {\n",
              "        vertical-align: middle;\n",
              "    }\n",
              "\n",
              "    .dataframe tbody tr th {\n",
              "        vertical-align: top;\n",
              "    }\n",
              "\n",
              "    .dataframe thead th {\n",
              "        text-align: right;\n",
              "    }\n",
              "</style>\n",
              "<table border=\"1\" class=\"dataframe\">\n",
              "  <thead>\n",
              "    <tr style=\"text-align: right;\">\n",
              "      <th></th>\n",
              "      <th>Date</th>\n",
              "      <th>Returns</th>\n",
              "    </tr>\n",
              "  </thead>\n",
              "  <tbody>\n",
              "    <tr>\n",
              "      <th>0</th>\n",
              "      <td>2008</td>\n",
              "      <td>-38.49</td>\n",
              "    </tr>\n",
              "    <tr>\n",
              "      <th>1</th>\n",
              "      <td>2009</td>\n",
              "      <td>23.45</td>\n",
              "    </tr>\n",
              "    <tr>\n",
              "      <th>2</th>\n",
              "      <td>2010</td>\n",
              "      <td>12.78</td>\n",
              "    </tr>\n",
              "    <tr>\n",
              "      <th>3</th>\n",
              "      <td>2011</td>\n",
              "      <td>0.00</td>\n",
              "    </tr>\n",
              "    <tr>\n",
              "      <th>4</th>\n",
              "      <td>2012</td>\n",
              "      <td>13.41</td>\n",
              "    </tr>\n",
              "  </tbody>\n",
              "</table>\n",
              "</div>"
            ],
            "text/plain": [
              "   Date  Returns\n",
              "0  2008   -38.49\n",
              "1  2009    23.45\n",
              "2  2010    12.78\n",
              "3  2011     0.00\n",
              "4  2012    13.41"
            ]
          },
          "metadata": {
            "tags": []
          },
          "execution_count": 63
        }
      ]
    },
    {
      "cell_type": "code",
      "metadata": {
        "colab": {
          "base_uri": "https://localhost:8080/",
          "height": 173
        },
        "id": "X5KoejZtEjY6",
        "outputId": "b3dd770d-a734-4155-c51f-7cf80f9f10c0"
      },
      "source": [
        "df1=df[df.Date.isin([2008,2009])]\r\n",
        "df2=df[df.Date.isin([2010,2011])]\r\n",
        "df3=pd.merge_ordered(df1,df2,on='Date')\r\n",
        "df3"
      ],
      "execution_count": 68,
      "outputs": [
        {
          "output_type": "execute_result",
          "data": {
            "text/html": [
              "<div>\n",
              "<style scoped>\n",
              "    .dataframe tbody tr th:only-of-type {\n",
              "        vertical-align: middle;\n",
              "    }\n",
              "\n",
              "    .dataframe tbody tr th {\n",
              "        vertical-align: top;\n",
              "    }\n",
              "\n",
              "    .dataframe thead th {\n",
              "        text-align: right;\n",
              "    }\n",
              "</style>\n",
              "<table border=\"1\" class=\"dataframe\">\n",
              "  <thead>\n",
              "    <tr style=\"text-align: right;\">\n",
              "      <th></th>\n",
              "      <th>Date</th>\n",
              "      <th>Returns_x</th>\n",
              "      <th>Returns_y</th>\n",
              "    </tr>\n",
              "  </thead>\n",
              "  <tbody>\n",
              "    <tr>\n",
              "      <th>0</th>\n",
              "      <td>2008</td>\n",
              "      <td>-38.49</td>\n",
              "      <td>NaN</td>\n",
              "    </tr>\n",
              "    <tr>\n",
              "      <th>1</th>\n",
              "      <td>2009</td>\n",
              "      <td>23.45</td>\n",
              "      <td>NaN</td>\n",
              "    </tr>\n",
              "    <tr>\n",
              "      <th>2</th>\n",
              "      <td>2010</td>\n",
              "      <td>NaN</td>\n",
              "      <td>12.78</td>\n",
              "    </tr>\n",
              "    <tr>\n",
              "      <th>3</th>\n",
              "      <td>2011</td>\n",
              "      <td>NaN</td>\n",
              "      <td>0.00</td>\n",
              "    </tr>\n",
              "  </tbody>\n",
              "</table>\n",
              "</div>"
            ],
            "text/plain": [
              "   Date  Returns_x  Returns_y\n",
              "0  2008     -38.49        NaN\n",
              "1  2009      23.45        NaN\n",
              "2  2010        NaN      12.78\n",
              "3  2011        NaN       0.00"
            ]
          },
          "metadata": {
            "tags": []
          },
          "execution_count": 68
        }
      ]
    },
    {
      "cell_type": "code",
      "metadata": {
        "colab": {
          "base_uri": "https://localhost:8080/",
          "height": 173
        },
        "id": "7gEyIUZ_FDYG",
        "outputId": "9275d030-4dc1-4fa3-f7da-bd5341520c73"
      },
      "source": [
        "## using fill method to fill na values\r\n",
        "df3=pd.merge_ordered(df1,df2,on='Date',fill_method='ffill')\r\n",
        "df3"
      ],
      "execution_count": 70,
      "outputs": [
        {
          "output_type": "execute_result",
          "data": {
            "text/html": [
              "<div>\n",
              "<style scoped>\n",
              "    .dataframe tbody tr th:only-of-type {\n",
              "        vertical-align: middle;\n",
              "    }\n",
              "\n",
              "    .dataframe tbody tr th {\n",
              "        vertical-align: top;\n",
              "    }\n",
              "\n",
              "    .dataframe thead th {\n",
              "        text-align: right;\n",
              "    }\n",
              "</style>\n",
              "<table border=\"1\" class=\"dataframe\">\n",
              "  <thead>\n",
              "    <tr style=\"text-align: right;\">\n",
              "      <th></th>\n",
              "      <th>Date</th>\n",
              "      <th>Returns_x</th>\n",
              "      <th>Returns_y</th>\n",
              "    </tr>\n",
              "  </thead>\n",
              "  <tbody>\n",
              "    <tr>\n",
              "      <th>0</th>\n",
              "      <td>2008</td>\n",
              "      <td>-38.49</td>\n",
              "      <td>NaN</td>\n",
              "    </tr>\n",
              "    <tr>\n",
              "      <th>1</th>\n",
              "      <td>2009</td>\n",
              "      <td>23.45</td>\n",
              "      <td>NaN</td>\n",
              "    </tr>\n",
              "    <tr>\n",
              "      <th>2</th>\n",
              "      <td>2010</td>\n",
              "      <td>23.45</td>\n",
              "      <td>12.78</td>\n",
              "    </tr>\n",
              "    <tr>\n",
              "      <th>3</th>\n",
              "      <td>2011</td>\n",
              "      <td>23.45</td>\n",
              "      <td>0.00</td>\n",
              "    </tr>\n",
              "  </tbody>\n",
              "</table>\n",
              "</div>"
            ],
            "text/plain": [
              "   Date  Returns_x  Returns_y\n",
              "0  2008     -38.49        NaN\n",
              "1  2009      23.45        NaN\n",
              "2  2010      23.45      12.78\n",
              "3  2011      23.45       0.00"
            ]
          },
          "metadata": {
            "tags": []
          },
          "execution_count": 70
        }
      ]
    },
    {
      "cell_type": "code",
      "metadata": {
        "colab": {
          "base_uri": "https://localhost:8080/",
          "height": 297
        },
        "id": "kui4cfYEGCvg",
        "outputId": "6be75bd4-827b-414e-9eff-def19a4aeba2"
      },
      "source": [
        "## merge as of will select data from right table which is nearest(backward, forward or nearest) to left key value. \r\n",
        "quotes = pd.DataFrame(\r\n",
        "    {\r\n",
        "        \"time\": [\r\n",
        "            pd.Timestamp(\"2016-05-25 13:30:00.021\"),\r\n",
        "            pd.Timestamp(\"2016-05-25 13:30:00.021\"),\r\n",
        "            pd.Timestamp(\"2016-05-25 13:30:00.030\"),\r\n",
        "            pd.Timestamp(\"2016-05-25 13:30:00.041\"),\r\n",
        "            pd.Timestamp(\"2016-05-25 13:30:00.048\"),\r\n",
        "            pd.Timestamp(\"2016-05-25 13:30:00.049\"),\r\n",
        "            pd.Timestamp(\"2016-05-25 13:30:00.072\"),\r\n",
        "            pd.Timestamp(\"2016-05-25 13:30:00.075\")\r\n",
        "        ],\r\n",
        "        \"ticker\": [\r\n",
        "               \"GOOG\",\r\n",
        "               \"MSFT\",\r\n",
        "               \"MSFT\",\r\n",
        "               \"MSFT\",\r\n",
        "               \"GOOG\",\r\n",
        "               \"AAPL\",\r\n",
        "               \"GOOG\",\r\n",
        "               \"MSFT\"\r\n",
        "           ],\r\n",
        "           \"bid\": [720.50, 51.95, 51.97, 51.99, 720.50, 97.99, 720.50, 52.01],\r\n",
        "           \"ask\": [720.93, 51.96, 51.98, 52.00, 720.93, 98.01, 720.88, 52.03]\r\n",
        "    }\r\n",
        ")\r\n",
        "\r\n",
        "quotes"
      ],
      "execution_count": 81,
      "outputs": [
        {
          "output_type": "execute_result",
          "data": {
            "text/html": [
              "<div>\n",
              "<style scoped>\n",
              "    .dataframe tbody tr th:only-of-type {\n",
              "        vertical-align: middle;\n",
              "    }\n",
              "\n",
              "    .dataframe tbody tr th {\n",
              "        vertical-align: top;\n",
              "    }\n",
              "\n",
              "    .dataframe thead th {\n",
              "        text-align: right;\n",
              "    }\n",
              "</style>\n",
              "<table border=\"1\" class=\"dataframe\">\n",
              "  <thead>\n",
              "    <tr style=\"text-align: right;\">\n",
              "      <th></th>\n",
              "      <th>time</th>\n",
              "      <th>ticker</th>\n",
              "      <th>bid</th>\n",
              "      <th>ask</th>\n",
              "    </tr>\n",
              "  </thead>\n",
              "  <tbody>\n",
              "    <tr>\n",
              "      <th>0</th>\n",
              "      <td>2016-05-25 13:30:00.021</td>\n",
              "      <td>GOOG</td>\n",
              "      <td>720.50</td>\n",
              "      <td>720.93</td>\n",
              "    </tr>\n",
              "    <tr>\n",
              "      <th>1</th>\n",
              "      <td>2016-05-25 13:30:00.021</td>\n",
              "      <td>MSFT</td>\n",
              "      <td>51.95</td>\n",
              "      <td>51.96</td>\n",
              "    </tr>\n",
              "    <tr>\n",
              "      <th>2</th>\n",
              "      <td>2016-05-25 13:30:00.030</td>\n",
              "      <td>MSFT</td>\n",
              "      <td>51.97</td>\n",
              "      <td>51.98</td>\n",
              "    </tr>\n",
              "    <tr>\n",
              "      <th>3</th>\n",
              "      <td>2016-05-25 13:30:00.041</td>\n",
              "      <td>MSFT</td>\n",
              "      <td>51.99</td>\n",
              "      <td>52.00</td>\n",
              "    </tr>\n",
              "    <tr>\n",
              "      <th>4</th>\n",
              "      <td>2016-05-25 13:30:00.048</td>\n",
              "      <td>GOOG</td>\n",
              "      <td>720.50</td>\n",
              "      <td>720.93</td>\n",
              "    </tr>\n",
              "    <tr>\n",
              "      <th>5</th>\n",
              "      <td>2016-05-25 13:30:00.049</td>\n",
              "      <td>AAPL</td>\n",
              "      <td>97.99</td>\n",
              "      <td>98.01</td>\n",
              "    </tr>\n",
              "    <tr>\n",
              "      <th>6</th>\n",
              "      <td>2016-05-25 13:30:00.072</td>\n",
              "      <td>GOOG</td>\n",
              "      <td>720.50</td>\n",
              "      <td>720.88</td>\n",
              "    </tr>\n",
              "    <tr>\n",
              "      <th>7</th>\n",
              "      <td>2016-05-25 13:30:00.075</td>\n",
              "      <td>MSFT</td>\n",
              "      <td>52.01</td>\n",
              "      <td>52.03</td>\n",
              "    </tr>\n",
              "  </tbody>\n",
              "</table>\n",
              "</div>"
            ],
            "text/plain": [
              "                     time ticker     bid     ask\n",
              "0 2016-05-25 13:30:00.021   GOOG  720.50  720.93\n",
              "1 2016-05-25 13:30:00.021   MSFT   51.95   51.96\n",
              "2 2016-05-25 13:30:00.030   MSFT   51.97   51.98\n",
              "3 2016-05-25 13:30:00.041   MSFT   51.99   52.00\n",
              "4 2016-05-25 13:30:00.048   GOOG  720.50  720.93\n",
              "5 2016-05-25 13:30:00.049   AAPL   97.99   98.01\n",
              "6 2016-05-25 13:30:00.072   GOOG  720.50  720.88\n",
              "7 2016-05-25 13:30:00.075   MSFT   52.01   52.03"
            ]
          },
          "metadata": {
            "tags": []
          },
          "execution_count": 81
        }
      ]
    },
    {
      "cell_type": "code",
      "metadata": {
        "colab": {
          "base_uri": "https://localhost:8080/",
          "height": 204
        },
        "id": "g2m098wpHtoa",
        "outputId": "002276fe-8504-4fbb-eab4-8dc06aac0c1d"
      },
      "source": [
        "trades = pd.DataFrame(\r\n",
        "       {\r\n",
        "           \"time\": [\r\n",
        "               pd.Timestamp(\"2016-05-25 13:30:00.023\"),\r\n",
        "               pd.Timestamp(\"2016-05-25 13:30:00.038\"),\r\n",
        "               pd.Timestamp(\"2016-05-25 13:30:00.048\"),\r\n",
        "               pd.Timestamp(\"2016-05-25 13:30:00.048\"),\r\n",
        "               pd.Timestamp(\"2016-05-25 13:30:00.048\")\r\n",
        "           ],\r\n",
        "           \"ticker\": [\"MSFT\", \"MSFT\", \"GOOG\", \"GOOG\", \"AAPL\"],\r\n",
        "           \"price\": [51.95, 51.95, 720.77, 720.92, 98.0],\r\n",
        "           \"quantity\": [75, 155, 100, 100, 100]\r\n",
        "       }\r\n",
        "   )\r\n",
        "trades"
      ],
      "execution_count": 73,
      "outputs": [
        {
          "output_type": "execute_result",
          "data": {
            "text/html": [
              "<div>\n",
              "<style scoped>\n",
              "    .dataframe tbody tr th:only-of-type {\n",
              "        vertical-align: middle;\n",
              "    }\n",
              "\n",
              "    .dataframe tbody tr th {\n",
              "        vertical-align: top;\n",
              "    }\n",
              "\n",
              "    .dataframe thead th {\n",
              "        text-align: right;\n",
              "    }\n",
              "</style>\n",
              "<table border=\"1\" class=\"dataframe\">\n",
              "  <thead>\n",
              "    <tr style=\"text-align: right;\">\n",
              "      <th></th>\n",
              "      <th>time</th>\n",
              "      <th>ticker</th>\n",
              "      <th>price</th>\n",
              "      <th>quantity</th>\n",
              "    </tr>\n",
              "  </thead>\n",
              "  <tbody>\n",
              "    <tr>\n",
              "      <th>0</th>\n",
              "      <td>2016-05-25 13:30:00.023</td>\n",
              "      <td>MSFT</td>\n",
              "      <td>51.95</td>\n",
              "      <td>75</td>\n",
              "    </tr>\n",
              "    <tr>\n",
              "      <th>1</th>\n",
              "      <td>2016-05-25 13:30:00.038</td>\n",
              "      <td>MSFT</td>\n",
              "      <td>51.95</td>\n",
              "      <td>155</td>\n",
              "    </tr>\n",
              "    <tr>\n",
              "      <th>2</th>\n",
              "      <td>2016-05-25 13:30:00.048</td>\n",
              "      <td>GOOG</td>\n",
              "      <td>720.77</td>\n",
              "      <td>100</td>\n",
              "    </tr>\n",
              "    <tr>\n",
              "      <th>3</th>\n",
              "      <td>2016-05-25 13:30:00.048</td>\n",
              "      <td>GOOG</td>\n",
              "      <td>720.92</td>\n",
              "      <td>100</td>\n",
              "    </tr>\n",
              "    <tr>\n",
              "      <th>4</th>\n",
              "      <td>2016-05-25 13:30:00.048</td>\n",
              "      <td>AAPL</td>\n",
              "      <td>98.00</td>\n",
              "      <td>100</td>\n",
              "    </tr>\n",
              "  </tbody>\n",
              "</table>\n",
              "</div>"
            ],
            "text/plain": [
              "                     time ticker   price  quantity\n",
              "0 2016-05-25 13:30:00.023   MSFT   51.95        75\n",
              "1 2016-05-25 13:30:00.038   MSFT   51.95       155\n",
              "2 2016-05-25 13:30:00.048   GOOG  720.77       100\n",
              "3 2016-05-25 13:30:00.048   GOOG  720.92       100\n",
              "4 2016-05-25 13:30:00.048   AAPL   98.00       100"
            ]
          },
          "metadata": {
            "tags": []
          },
          "execution_count": 73
        }
      ]
    },
    {
      "cell_type": "code",
      "metadata": {
        "colab": {
          "base_uri": "https://localhost:8080/",
          "height": 204
        },
        "id": "Z2nXJtSoH_pw",
        "outputId": "6f07768a-e8e7-49ec-843f-7b551631e647"
      },
      "source": [
        "### to get the bid and ask price at time of trade, we use merge as of to select the closest time for bid/ask. Using merge will exclude data, but\r\n",
        "### merge as of can be used to select nearest data available.\r\n",
        "df=pd.merge_asof(trades,quotes,on=['time'],direction='backward')\r\n",
        "df"
      ],
      "execution_count": 82,
      "outputs": [
        {
          "output_type": "execute_result",
          "data": {
            "text/html": [
              "<div>\n",
              "<style scoped>\n",
              "    .dataframe tbody tr th:only-of-type {\n",
              "        vertical-align: middle;\n",
              "    }\n",
              "\n",
              "    .dataframe tbody tr th {\n",
              "        vertical-align: top;\n",
              "    }\n",
              "\n",
              "    .dataframe thead th {\n",
              "        text-align: right;\n",
              "    }\n",
              "</style>\n",
              "<table border=\"1\" class=\"dataframe\">\n",
              "  <thead>\n",
              "    <tr style=\"text-align: right;\">\n",
              "      <th></th>\n",
              "      <th>time</th>\n",
              "      <th>ticker_x</th>\n",
              "      <th>price</th>\n",
              "      <th>quantity</th>\n",
              "      <th>ticker_y</th>\n",
              "      <th>bid</th>\n",
              "      <th>ask</th>\n",
              "    </tr>\n",
              "  </thead>\n",
              "  <tbody>\n",
              "    <tr>\n",
              "      <th>0</th>\n",
              "      <td>2016-05-25 13:30:00.023</td>\n",
              "      <td>MSFT</td>\n",
              "      <td>51.95</td>\n",
              "      <td>75</td>\n",
              "      <td>MSFT</td>\n",
              "      <td>51.95</td>\n",
              "      <td>51.96</td>\n",
              "    </tr>\n",
              "    <tr>\n",
              "      <th>1</th>\n",
              "      <td>2016-05-25 13:30:00.038</td>\n",
              "      <td>MSFT</td>\n",
              "      <td>51.95</td>\n",
              "      <td>155</td>\n",
              "      <td>MSFT</td>\n",
              "      <td>51.97</td>\n",
              "      <td>51.98</td>\n",
              "    </tr>\n",
              "    <tr>\n",
              "      <th>2</th>\n",
              "      <td>2016-05-25 13:30:00.048</td>\n",
              "      <td>GOOG</td>\n",
              "      <td>720.77</td>\n",
              "      <td>100</td>\n",
              "      <td>GOOG</td>\n",
              "      <td>720.50</td>\n",
              "      <td>720.93</td>\n",
              "    </tr>\n",
              "    <tr>\n",
              "      <th>3</th>\n",
              "      <td>2016-05-25 13:30:00.048</td>\n",
              "      <td>GOOG</td>\n",
              "      <td>720.92</td>\n",
              "      <td>100</td>\n",
              "      <td>GOOG</td>\n",
              "      <td>720.50</td>\n",
              "      <td>720.93</td>\n",
              "    </tr>\n",
              "    <tr>\n",
              "      <th>4</th>\n",
              "      <td>2016-05-25 13:30:00.048</td>\n",
              "      <td>AAPL</td>\n",
              "      <td>98.00</td>\n",
              "      <td>100</td>\n",
              "      <td>GOOG</td>\n",
              "      <td>720.50</td>\n",
              "      <td>720.93</td>\n",
              "    </tr>\n",
              "  </tbody>\n",
              "</table>\n",
              "</div>"
            ],
            "text/plain": [
              "                     time ticker_x   price  quantity ticker_y     bid     ask\n",
              "0 2016-05-25 13:30:00.023     MSFT   51.95        75     MSFT   51.95   51.96\n",
              "1 2016-05-25 13:30:00.038     MSFT   51.95       155     MSFT   51.97   51.98\n",
              "2 2016-05-25 13:30:00.048     GOOG  720.77       100     GOOG  720.50  720.93\n",
              "3 2016-05-25 13:30:00.048     GOOG  720.92       100     GOOG  720.50  720.93\n",
              "4 2016-05-25 13:30:00.048     AAPL   98.00       100     GOOG  720.50  720.93"
            ]
          },
          "metadata": {
            "tags": []
          },
          "execution_count": 82
        }
      ]
    },
    {
      "cell_type": "code",
      "metadata": {
        "colab": {
          "base_uri": "https://localhost:8080/",
          "height": 204
        },
        "id": "F_P3l6cUIZfT",
        "outputId": "134d7a04-dfc0-482e-f94c-144dc0b6a2e0"
      },
      "source": [
        "## merge on antoher column before merging as of using on column\r\n",
        "df=pd.merge_asof(trades,quotes,on=['time'],by='ticker',direction='backward')\r\n",
        "df"
      ],
      "execution_count": 83,
      "outputs": [
        {
          "output_type": "execute_result",
          "data": {
            "text/html": [
              "<div>\n",
              "<style scoped>\n",
              "    .dataframe tbody tr th:only-of-type {\n",
              "        vertical-align: middle;\n",
              "    }\n",
              "\n",
              "    .dataframe tbody tr th {\n",
              "        vertical-align: top;\n",
              "    }\n",
              "\n",
              "    .dataframe thead th {\n",
              "        text-align: right;\n",
              "    }\n",
              "</style>\n",
              "<table border=\"1\" class=\"dataframe\">\n",
              "  <thead>\n",
              "    <tr style=\"text-align: right;\">\n",
              "      <th></th>\n",
              "      <th>time</th>\n",
              "      <th>ticker</th>\n",
              "      <th>price</th>\n",
              "      <th>quantity</th>\n",
              "      <th>bid</th>\n",
              "      <th>ask</th>\n",
              "    </tr>\n",
              "  </thead>\n",
              "  <tbody>\n",
              "    <tr>\n",
              "      <th>0</th>\n",
              "      <td>2016-05-25 13:30:00.023</td>\n",
              "      <td>MSFT</td>\n",
              "      <td>51.95</td>\n",
              "      <td>75</td>\n",
              "      <td>51.95</td>\n",
              "      <td>51.96</td>\n",
              "    </tr>\n",
              "    <tr>\n",
              "      <th>1</th>\n",
              "      <td>2016-05-25 13:30:00.038</td>\n",
              "      <td>MSFT</td>\n",
              "      <td>51.95</td>\n",
              "      <td>155</td>\n",
              "      <td>51.97</td>\n",
              "      <td>51.98</td>\n",
              "    </tr>\n",
              "    <tr>\n",
              "      <th>2</th>\n",
              "      <td>2016-05-25 13:30:00.048</td>\n",
              "      <td>GOOG</td>\n",
              "      <td>720.77</td>\n",
              "      <td>100</td>\n",
              "      <td>720.50</td>\n",
              "      <td>720.93</td>\n",
              "    </tr>\n",
              "    <tr>\n",
              "      <th>3</th>\n",
              "      <td>2016-05-25 13:30:00.048</td>\n",
              "      <td>GOOG</td>\n",
              "      <td>720.92</td>\n",
              "      <td>100</td>\n",
              "      <td>720.50</td>\n",
              "      <td>720.93</td>\n",
              "    </tr>\n",
              "    <tr>\n",
              "      <th>4</th>\n",
              "      <td>2016-05-25 13:30:00.048</td>\n",
              "      <td>AAPL</td>\n",
              "      <td>98.00</td>\n",
              "      <td>100</td>\n",
              "      <td>NaN</td>\n",
              "      <td>NaN</td>\n",
              "    </tr>\n",
              "  </tbody>\n",
              "</table>\n",
              "</div>"
            ],
            "text/plain": [
              "                     time ticker   price  quantity     bid     ask\n",
              "0 2016-05-25 13:30:00.023   MSFT   51.95        75   51.95   51.96\n",
              "1 2016-05-25 13:30:00.038   MSFT   51.95       155   51.97   51.98\n",
              "2 2016-05-25 13:30:00.048   GOOG  720.77       100  720.50  720.93\n",
              "3 2016-05-25 13:30:00.048   GOOG  720.92       100  720.50  720.93\n",
              "4 2016-05-25 13:30:00.048   AAPL   98.00       100     NaN     NaN"
            ]
          },
          "metadata": {
            "tags": []
          },
          "execution_count": 83
        }
      ]
    },
    {
      "cell_type": "code",
      "metadata": {
        "colab": {
          "base_uri": "https://localhost:8080/",
          "height": 204
        },
        "id": "JnPfzmNDJymB",
        "outputId": "0b3ccf26-980c-4af7-f3ff-63f1bb012232"
      },
      "source": [
        "## using tolerance to adjust as of limits\r\n",
        "df=pd.merge_asof(trades,quotes,on=['time'],by='ticker',direction='backward',tolerance=pd.Timedelta(\"1ms\"))\r\n",
        "df"
      ],
      "execution_count": 88,
      "outputs": [
        {
          "output_type": "execute_result",
          "data": {
            "text/html": [
              "<div>\n",
              "<style scoped>\n",
              "    .dataframe tbody tr th:only-of-type {\n",
              "        vertical-align: middle;\n",
              "    }\n",
              "\n",
              "    .dataframe tbody tr th {\n",
              "        vertical-align: top;\n",
              "    }\n",
              "\n",
              "    .dataframe thead th {\n",
              "        text-align: right;\n",
              "    }\n",
              "</style>\n",
              "<table border=\"1\" class=\"dataframe\">\n",
              "  <thead>\n",
              "    <tr style=\"text-align: right;\">\n",
              "      <th></th>\n",
              "      <th>time</th>\n",
              "      <th>ticker</th>\n",
              "      <th>price</th>\n",
              "      <th>quantity</th>\n",
              "      <th>bid</th>\n",
              "      <th>ask</th>\n",
              "    </tr>\n",
              "  </thead>\n",
              "  <tbody>\n",
              "    <tr>\n",
              "      <th>0</th>\n",
              "      <td>2016-05-25 13:30:00.023</td>\n",
              "      <td>MSFT</td>\n",
              "      <td>51.95</td>\n",
              "      <td>75</td>\n",
              "      <td>NaN</td>\n",
              "      <td>NaN</td>\n",
              "    </tr>\n",
              "    <tr>\n",
              "      <th>1</th>\n",
              "      <td>2016-05-25 13:30:00.038</td>\n",
              "      <td>MSFT</td>\n",
              "      <td>51.95</td>\n",
              "      <td>155</td>\n",
              "      <td>NaN</td>\n",
              "      <td>NaN</td>\n",
              "    </tr>\n",
              "    <tr>\n",
              "      <th>2</th>\n",
              "      <td>2016-05-25 13:30:00.048</td>\n",
              "      <td>GOOG</td>\n",
              "      <td>720.77</td>\n",
              "      <td>100</td>\n",
              "      <td>720.5</td>\n",
              "      <td>720.93</td>\n",
              "    </tr>\n",
              "    <tr>\n",
              "      <th>3</th>\n",
              "      <td>2016-05-25 13:30:00.048</td>\n",
              "      <td>GOOG</td>\n",
              "      <td>720.92</td>\n",
              "      <td>100</td>\n",
              "      <td>720.5</td>\n",
              "      <td>720.93</td>\n",
              "    </tr>\n",
              "    <tr>\n",
              "      <th>4</th>\n",
              "      <td>2016-05-25 13:30:00.048</td>\n",
              "      <td>AAPL</td>\n",
              "      <td>98.00</td>\n",
              "      <td>100</td>\n",
              "      <td>NaN</td>\n",
              "      <td>NaN</td>\n",
              "    </tr>\n",
              "  </tbody>\n",
              "</table>\n",
              "</div>"
            ],
            "text/plain": [
              "                     time ticker   price  quantity    bid     ask\n",
              "0 2016-05-25 13:30:00.023   MSFT   51.95        75    NaN     NaN\n",
              "1 2016-05-25 13:30:00.038   MSFT   51.95       155    NaN     NaN\n",
              "2 2016-05-25 13:30:00.048   GOOG  720.77       100  720.5  720.93\n",
              "3 2016-05-25 13:30:00.048   GOOG  720.92       100  720.5  720.93\n",
              "4 2016-05-25 13:30:00.048   AAPL   98.00       100    NaN     NaN"
            ]
          },
          "metadata": {
            "tags": []
          },
          "execution_count": 88
        }
      ]
    },
    {
      "cell_type": "code",
      "metadata": {
        "id": "KOVoqcUCKBl_"
      },
      "source": [
        ""
      ],
      "execution_count": null,
      "outputs": []
    }
  ]
}
