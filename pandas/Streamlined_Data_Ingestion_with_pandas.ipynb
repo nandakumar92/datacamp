{
  "nbformat": 4,
  "nbformat_minor": 0,
  "metadata": {
    "colab": {
      "name": "Streamlined Data Ingestion with pandas.ipynb",
      "provenance": [],
      "collapsed_sections": [],
      "authorship_tag": "ABX9TyMHfjN8oT3t/RbTsJfnqIxh",
      "include_colab_link": true
    },
    "kernelspec": {
      "name": "python3",
      "display_name": "Python 3"
    }
  },
  "cells": [
    {
      "cell_type": "markdown",
      "metadata": {
        "id": "view-in-github",
        "colab_type": "text"
      },
      "source": [
        "<a href=\"https://colab.research.google.com/github/nandakumar92/datacamp/blob/main/Streamlined_Data_Ingestion_with_pandas.ipynb\" target=\"_parent\"><img src=\"https://colab.research.google.com/assets/colab-badge.svg\" alt=\"Open In Colab\"/></a>"
      ]
    },
    {
      "cell_type": "code",
      "metadata": {
        "colab": {
          "base_uri": "https://localhost:8080/"
        },
        "id": "heXFdlgMJwWN",
        "outputId": "e235204f-b8d3-44fe-da33-12cce5c19a32"
      },
      "source": [
        "from google.colab import drive\r\n",
        "drive.mount('/content/gdrive')"
      ],
      "execution_count": 2,
      "outputs": [
        {
          "output_type": "stream",
          "text": [
            "Mounted at /content/gdrive\n"
          ],
          "name": "stdout"
        }
      ]
    },
    {
      "cell_type": "code",
      "metadata": {
        "id": "DZbye0OtJ5Ml"
      },
      "source": [
        "import pandas as pd\r\n",
        "import numpy as np\r\n",
        "df=pd.read_csv('/content/gdrive/MyDrive/Colab/Data/netflix/netflix_titles.csv',sep=',')"
      ],
      "execution_count": 19,
      "outputs": []
    },
    {
      "cell_type": "code",
      "metadata": {
        "colab": {
          "base_uri": "https://localhost:8080/",
          "height": 374
        },
        "id": "1_ZuyfFBMkls",
        "outputId": "1253e00a-e1e6-407b-dcd3-22c6946c483c"
      },
      "source": [
        "df.head()"
      ],
      "execution_count": 6,
      "outputs": [
        {
          "output_type": "execute_result",
          "data": {
            "text/html": [
              "<div>\n",
              "<style scoped>\n",
              "    .dataframe tbody tr th:only-of-type {\n",
              "        vertical-align: middle;\n",
              "    }\n",
              "\n",
              "    .dataframe tbody tr th {\n",
              "        vertical-align: top;\n",
              "    }\n",
              "\n",
              "    .dataframe thead th {\n",
              "        text-align: right;\n",
              "    }\n",
              "</style>\n",
              "<table border=\"1\" class=\"dataframe\">\n",
              "  <thead>\n",
              "    <tr style=\"text-align: right;\">\n",
              "      <th></th>\n",
              "      <th>show_id</th>\n",
              "      <th>type</th>\n",
              "      <th>title</th>\n",
              "      <th>director</th>\n",
              "      <th>cast</th>\n",
              "      <th>country</th>\n",
              "      <th>date_added</th>\n",
              "      <th>release_year</th>\n",
              "      <th>rating</th>\n",
              "      <th>duration</th>\n",
              "      <th>listed_in</th>\n",
              "      <th>description</th>\n",
              "    </tr>\n",
              "  </thead>\n",
              "  <tbody>\n",
              "    <tr>\n",
              "      <th>0</th>\n",
              "      <td>s1</td>\n",
              "      <td>TV Show</td>\n",
              "      <td>3%</td>\n",
              "      <td>NaN</td>\n",
              "      <td>João Miguel, Bianca Comparato, Michel Gomes, R...</td>\n",
              "      <td>Brazil</td>\n",
              "      <td>14-Aug-20</td>\n",
              "      <td>2020</td>\n",
              "      <td>TV-MA</td>\n",
              "      <td>4 Seasons</td>\n",
              "      <td>International TV Shows, TV Dramas, TV Sci-Fi &amp;...</td>\n",
              "      <td>In a future where the elite inhabit an island ...</td>\n",
              "    </tr>\n",
              "    <tr>\n",
              "      <th>1</th>\n",
              "      <td>s2</td>\n",
              "      <td>Movie</td>\n",
              "      <td>7:19</td>\n",
              "      <td>Jorge Michel Grau</td>\n",
              "      <td>Demián Bichir, Héctor Bonilla, Oscar Serrano, ...</td>\n",
              "      <td>Mexico</td>\n",
              "      <td>23-Dec-16</td>\n",
              "      <td>2016</td>\n",
              "      <td>TV-MA</td>\n",
              "      <td>93 min</td>\n",
              "      <td>Dramas, International Movies</td>\n",
              "      <td>After a devastating earthquake hits Mexico Cit...</td>\n",
              "    </tr>\n",
              "    <tr>\n",
              "      <th>2</th>\n",
              "      <td>s3</td>\n",
              "      <td>Movie</td>\n",
              "      <td>23:59</td>\n",
              "      <td>Gilbert Chan</td>\n",
              "      <td>Tedd Chan, Stella Chung, Henley Hii, Lawrence ...</td>\n",
              "      <td>Singapore</td>\n",
              "      <td>20-Dec-18</td>\n",
              "      <td>2011</td>\n",
              "      <td>R</td>\n",
              "      <td>78 min</td>\n",
              "      <td>Horror Movies, International Movies</td>\n",
              "      <td>When an army recruit is found dead, his fellow...</td>\n",
              "    </tr>\n",
              "    <tr>\n",
              "      <th>3</th>\n",
              "      <td>s4</td>\n",
              "      <td>Movie</td>\n",
              "      <td>9</td>\n",
              "      <td>Shane Acker</td>\n",
              "      <td>Elijah Wood, John C. Reilly, Jennifer Connelly...</td>\n",
              "      <td>United States</td>\n",
              "      <td>16-Nov-17</td>\n",
              "      <td>2009</td>\n",
              "      <td>PG-13</td>\n",
              "      <td>80 min</td>\n",
              "      <td>Action &amp; Adventure, Independent Movies, Sci-Fi...</td>\n",
              "      <td>In a postapocalyptic world, rag-doll robots hi...</td>\n",
              "    </tr>\n",
              "    <tr>\n",
              "      <th>4</th>\n",
              "      <td>s5</td>\n",
              "      <td>Movie</td>\n",
              "      <td>21</td>\n",
              "      <td>Robert Luketic</td>\n",
              "      <td>Jim Sturgess, Kevin Spacey, Kate Bosworth, Aar...</td>\n",
              "      <td>United States</td>\n",
              "      <td>1-Jan-20</td>\n",
              "      <td>2008</td>\n",
              "      <td>PG-13</td>\n",
              "      <td>123 min</td>\n",
              "      <td>Dramas</td>\n",
              "      <td>A brilliant group of students become card-coun...</td>\n",
              "    </tr>\n",
              "  </tbody>\n",
              "</table>\n",
              "</div>"
            ],
            "text/plain": [
              "  show_id  ...                                        description\n",
              "0      s1  ...  In a future where the elite inhabit an island ...\n",
              "1      s2  ...  After a devastating earthquake hits Mexico Cit...\n",
              "2      s3  ...  When an army recruit is found dead, his fellow...\n",
              "3      s4  ...  In a postapocalyptic world, rag-doll robots hi...\n",
              "4      s5  ...  A brilliant group of students become card-coun...\n",
              "\n",
              "[5 rows x 12 columns]"
            ]
          },
          "metadata": {
            "tags": []
          },
          "execution_count": 6
        }
      ]
    },
    {
      "cell_type": "code",
      "metadata": {
        "colab": {
          "base_uri": "https://localhost:8080/"
        },
        "id": "-fsr1oS7MmMw",
        "outputId": "af76de56-23d6-4f67-a7d7-e31598f99e30"
      },
      "source": [
        "df.info()"
      ],
      "execution_count": 7,
      "outputs": [
        {
          "output_type": "stream",
          "text": [
            "<class 'pandas.core.frame.DataFrame'>\n",
            "RangeIndex: 7787 entries, 0 to 7786\n",
            "Data columns (total 12 columns):\n",
            " #   Column        Non-Null Count  Dtype \n",
            "---  ------        --------------  ----- \n",
            " 0   show_id       7787 non-null   object\n",
            " 1   type          7787 non-null   object\n",
            " 2   title         7787 non-null   object\n",
            " 3   director      5398 non-null   object\n",
            " 4   cast          7069 non-null   object\n",
            " 5   country       7280 non-null   object\n",
            " 6   date_added    7777 non-null   object\n",
            " 7   release_year  7787 non-null   int64 \n",
            " 8   rating        7780 non-null   object\n",
            " 9   duration      7787 non-null   object\n",
            " 10  listed_in     7787 non-null   object\n",
            " 11  description   7787 non-null   object\n",
            "dtypes: int64(1), object(11)\n",
            "memory usage: 730.2+ KB\n"
          ],
          "name": "stdout"
        }
      ]
    },
    {
      "cell_type": "code",
      "metadata": {
        "id": "W_1BQC0gMvJU"
      },
      "source": [
        "## modify input data\r\n",
        "df=pd.read_csv('/content/gdrive/MyDrive/Colab/Data/netflix/netflix_titles.csv',sep=',', nrows=1000, skiprows=20)"
      ],
      "execution_count": 10,
      "outputs": []
    },
    {
      "cell_type": "code",
      "metadata": {
        "id": "rmKbLBuYND-_"
      },
      "source": [
        "## skiprwos but include header\r\n",
        "df=pd.read_csv('/content/gdrive/MyDrive/Colab/Data/netflix/netflix_titles.csv',sep=',', nrows=1000, skiprows=range(1,20))"
      ],
      "execution_count": 13,
      "outputs": []
    },
    {
      "cell_type": "code",
      "metadata": {
        "colab": {
          "base_uri": "https://localhost:8080/",
          "height": 374
        },
        "id": "HTOW5cfZNsWM",
        "outputId": "e36c9b6f-a06e-4869-8da6-f436ae9749f2"
      },
      "source": [
        "df.head()"
      ],
      "execution_count": 14,
      "outputs": [
        {
          "output_type": "execute_result",
          "data": {
            "text/html": [
              "<div>\n",
              "<style scoped>\n",
              "    .dataframe tbody tr th:only-of-type {\n",
              "        vertical-align: middle;\n",
              "    }\n",
              "\n",
              "    .dataframe tbody tr th {\n",
              "        vertical-align: top;\n",
              "    }\n",
              "\n",
              "    .dataframe thead th {\n",
              "        text-align: right;\n",
              "    }\n",
              "</style>\n",
              "<table border=\"1\" class=\"dataframe\">\n",
              "  <thead>\n",
              "    <tr style=\"text-align: right;\">\n",
              "      <th></th>\n",
              "      <th>show_id</th>\n",
              "      <th>type</th>\n",
              "      <th>title</th>\n",
              "      <th>director</th>\n",
              "      <th>cast</th>\n",
              "      <th>country</th>\n",
              "      <th>date_added</th>\n",
              "      <th>release_year</th>\n",
              "      <th>rating</th>\n",
              "      <th>duration</th>\n",
              "      <th>listed_in</th>\n",
              "      <th>description</th>\n",
              "    </tr>\n",
              "  </thead>\n",
              "  <tbody>\n",
              "    <tr>\n",
              "      <th>0</th>\n",
              "      <td>s20</td>\n",
              "      <td>Movie</td>\n",
              "      <td>'89</td>\n",
              "      <td>NaN</td>\n",
              "      <td>Lee Dixon, Ian Wright, Paul Merson</td>\n",
              "      <td>United Kingdom</td>\n",
              "      <td>16-May-18</td>\n",
              "      <td>2017</td>\n",
              "      <td>TV-PG</td>\n",
              "      <td>87 min</td>\n",
              "      <td>Sports Movies</td>\n",
              "      <td>Mixing old footage with interviews, this is th...</td>\n",
              "    </tr>\n",
              "    <tr>\n",
              "      <th>1</th>\n",
              "      <td>s21</td>\n",
              "      <td>Movie</td>\n",
              "      <td>​​Kuch Bheege Alfaaz</td>\n",
              "      <td>Onir</td>\n",
              "      <td>Geetanjali Thapa, Zain Khan Durrani, Shray Rai...</td>\n",
              "      <td>India</td>\n",
              "      <td>1-Sep-18</td>\n",
              "      <td>2018</td>\n",
              "      <td>TV-14</td>\n",
              "      <td>110 min</td>\n",
              "      <td>Dramas, Independent Movies, International Movies</td>\n",
              "      <td>After accidentally connecting over the Interne...</td>\n",
              "    </tr>\n",
              "    <tr>\n",
              "      <th>2</th>\n",
              "      <td>s22</td>\n",
              "      <td>Movie</td>\n",
              "      <td>​Goli Soda 2</td>\n",
              "      <td>Vijay Milton</td>\n",
              "      <td>Samuthirakani, Bharath Seeni, Vinoth, Esakki B...</td>\n",
              "      <td>India</td>\n",
              "      <td>15-Sep-18</td>\n",
              "      <td>2018</td>\n",
              "      <td>TV-14</td>\n",
              "      <td>128 min</td>\n",
              "      <td>Action &amp; Adventure, Dramas, International Movies</td>\n",
              "      <td>A taxi driver, a gangster and an athlete strug...</td>\n",
              "    </tr>\n",
              "    <tr>\n",
              "      <th>3</th>\n",
              "      <td>s23</td>\n",
              "      <td>Movie</td>\n",
              "      <td>​Maj Rati ​​Keteki</td>\n",
              "      <td>Santwana Bardoloi</td>\n",
              "      <td>Adil Hussain, Shakil Imtiaz, Mahendra Rabha, S...</td>\n",
              "      <td>India</td>\n",
              "      <td>15-Sep-18</td>\n",
              "      <td>2017</td>\n",
              "      <td>TV-14</td>\n",
              "      <td>117 min</td>\n",
              "      <td>Dramas, International Movies</td>\n",
              "      <td>A successful writer returns to the town that l...</td>\n",
              "    </tr>\n",
              "    <tr>\n",
              "      <th>4</th>\n",
              "      <td>s24</td>\n",
              "      <td>Movie</td>\n",
              "      <td>​Mayurakshi</td>\n",
              "      <td>Atanu Ghosh</td>\n",
              "      <td>Soumitra Chatterjee, Prasenjit Chatterjee, Ind...</td>\n",
              "      <td>India</td>\n",
              "      <td>15-Sep-18</td>\n",
              "      <td>2017</td>\n",
              "      <td>TV-14</td>\n",
              "      <td>100 min</td>\n",
              "      <td>Dramas, International Movies</td>\n",
              "      <td>When a middle-aged divorcee returns to Kolkata...</td>\n",
              "    </tr>\n",
              "  </tbody>\n",
              "</table>\n",
              "</div>"
            ],
            "text/plain": [
              "  show_id  ...                                        description\n",
              "0     s20  ...  Mixing old footage with interviews, this is th...\n",
              "1     s21  ...  After accidentally connecting over the Interne...\n",
              "2     s22  ...  A taxi driver, a gangster and an athlete strug...\n",
              "3     s23  ...  A successful writer returns to the town that l...\n",
              "4     s24  ...  When a middle-aged divorcee returns to Kolkata...\n",
              "\n",
              "[5 rows x 12 columns]"
            ]
          },
          "metadata": {
            "tags": []
          },
          "execution_count": 14
        }
      ]
    },
    {
      "cell_type": "code",
      "metadata": {
        "id": "KeqdRQZkOBg7"
      },
      "source": [
        "## use cols\r\n",
        "df=pd.read_csv('/content/gdrive/MyDrive/Colab/Data/netflix/netflix_titles.csv',sep=',', nrows=1000, skiprows=range(1,20),usecols=['title','rating'])"
      ],
      "execution_count": 16,
      "outputs": []
    },
    {
      "cell_type": "code",
      "metadata": {
        "colab": {
          "base_uri": "https://localhost:8080/",
          "height": 204
        },
        "id": "fi3GFuDXOIRM",
        "outputId": "90f9707f-5b28-4b0b-82e9-c84e1d16f38b"
      },
      "source": [
        "df.head()"
      ],
      "execution_count": 17,
      "outputs": [
        {
          "output_type": "execute_result",
          "data": {
            "text/html": [
              "<div>\n",
              "<style scoped>\n",
              "    .dataframe tbody tr th:only-of-type {\n",
              "        vertical-align: middle;\n",
              "    }\n",
              "\n",
              "    .dataframe tbody tr th {\n",
              "        vertical-align: top;\n",
              "    }\n",
              "\n",
              "    .dataframe thead th {\n",
              "        text-align: right;\n",
              "    }\n",
              "</style>\n",
              "<table border=\"1\" class=\"dataframe\">\n",
              "  <thead>\n",
              "    <tr style=\"text-align: right;\">\n",
              "      <th></th>\n",
              "      <th>title</th>\n",
              "      <th>rating</th>\n",
              "    </tr>\n",
              "  </thead>\n",
              "  <tbody>\n",
              "    <tr>\n",
              "      <th>0</th>\n",
              "      <td>'89</td>\n",
              "      <td>TV-PG</td>\n",
              "    </tr>\n",
              "    <tr>\n",
              "      <th>1</th>\n",
              "      <td>​​Kuch Bheege Alfaaz</td>\n",
              "      <td>TV-14</td>\n",
              "    </tr>\n",
              "    <tr>\n",
              "      <th>2</th>\n",
              "      <td>​Goli Soda 2</td>\n",
              "      <td>TV-14</td>\n",
              "    </tr>\n",
              "    <tr>\n",
              "      <th>3</th>\n",
              "      <td>​Maj Rati ​​Keteki</td>\n",
              "      <td>TV-14</td>\n",
              "    </tr>\n",
              "    <tr>\n",
              "      <th>4</th>\n",
              "      <td>​Mayurakshi</td>\n",
              "      <td>TV-14</td>\n",
              "    </tr>\n",
              "  </tbody>\n",
              "</table>\n",
              "</div>"
            ],
            "text/plain": [
              "                  title rating\n",
              "0                   '89  TV-PG\n",
              "1  ​​Kuch Bheege Alfaaz  TV-14\n",
              "2          ​Goli Soda 2  TV-14\n",
              "3    ​Maj Rati ​​Keteki  TV-14\n",
              "4           ​Mayurakshi  TV-14"
            ]
          },
          "metadata": {
            "tags": []
          },
          "execution_count": 17
        }
      ]
    },
    {
      "cell_type": "code",
      "metadata": {
        "id": "aYKfr2EdOKz0"
      },
      "source": [
        "## custom column names\r\n",
        "df=pd.read_csv('/content/gdrive/MyDrive/Colab/Data/netflix/netflix_titles.csv',sep=',', nrows=1000, skiprows=range(1,20))"
      ],
      "execution_count": 26,
      "outputs": []
    },
    {
      "cell_type": "code",
      "metadata": {
        "colab": {
          "base_uri": "https://localhost:8080/"
        },
        "id": "WVtkIXfROmcJ",
        "outputId": "7eadd82f-a718-423f-d949-a614e2afbef3"
      },
      "source": [
        "## specifiy dtype for columns\r\n",
        "df.info()"
      ],
      "execution_count": 27,
      "outputs": [
        {
          "output_type": "stream",
          "text": [
            "<class 'pandas.core.frame.DataFrame'>\n",
            "RangeIndex: 1000 entries, 0 to 999\n",
            "Data columns (total 12 columns):\n",
            " #   Column        Non-Null Count  Dtype \n",
            "---  ------        --------------  ----- \n",
            " 0   show_id       1000 non-null   object\n",
            " 1   type          1000 non-null   object\n",
            " 2   title         1000 non-null   object\n",
            " 3   director      743 non-null    object\n",
            " 4   cast          918 non-null    object\n",
            " 5   country       945 non-null    object\n",
            " 6   date_added    998 non-null    object\n",
            " 7   release_year  1000 non-null   int64 \n",
            " 8   rating        999 non-null    object\n",
            " 9   duration      1000 non-null   object\n",
            " 10  listed_in     1000 non-null   object\n",
            " 11  description   1000 non-null   object\n",
            "dtypes: int64(1), object(11)\n",
            "memory usage: 93.9+ KB\n"
          ],
          "name": "stdout"
        }
      ]
    },
    {
      "cell_type": "code",
      "metadata": {
        "id": "Z1Km5COMQArV"
      },
      "source": [
        "## use dtype to speficy string columns and parse dates for datetime columns\r\n",
        "df=pd.read_csv('/content/gdrive/MyDrive/Colab/Data/netflix/netflix_titles.csv',sep=',',dtype={'release_year':'str'},parse_dates=['date_added'])"
      ],
      "execution_count": 35,
      "outputs": []
    },
    {
      "cell_type": "code",
      "metadata": {
        "colab": {
          "base_uri": "https://localhost:8080/"
        },
        "id": "6cY1UDajQN6z",
        "outputId": "e7b14d16-cc1f-471b-f255-219239d0c92d"
      },
      "source": [
        "df.info()"
      ],
      "execution_count": 36,
      "outputs": [
        {
          "output_type": "stream",
          "text": [
            "<class 'pandas.core.frame.DataFrame'>\n",
            "RangeIndex: 7787 entries, 0 to 7786\n",
            "Data columns (total 12 columns):\n",
            " #   Column        Non-Null Count  Dtype         \n",
            "---  ------        --------------  -----         \n",
            " 0   show_id       7787 non-null   object        \n",
            " 1   type          7787 non-null   object        \n",
            " 2   title         7787 non-null   object        \n",
            " 3   director      5398 non-null   object        \n",
            " 4   cast          7069 non-null   object        \n",
            " 5   country       7280 non-null   object        \n",
            " 6   date_added    7777 non-null   datetime64[ns]\n",
            " 7   release_year  7787 non-null   object        \n",
            " 8   rating        7780 non-null   object        \n",
            " 9   duration      7787 non-null   object        \n",
            " 10  listed_in     7787 non-null   object        \n",
            " 11  description   7787 non-null   object        \n",
            "dtypes: datetime64[ns](1), object(11)\n",
            "memory usage: 730.2+ KB\n"
          ],
          "name": "stdout"
        }
      ]
    },
    {
      "cell_type": "code",
      "metadata": {
        "id": "kte6LG0kRAmE"
      },
      "source": [
        "## specify custom missing columns. Pandas by default reads null or NA columns as missing values.\r\n",
        "df=pd.read_csv('/content/gdrive/MyDrive/Colab/Data/netflix/netflix_titles.csv',sep=',',dtype={'release_year':'str'}\\\r\n",
        "               ,parse_dates=['date_added'],na_values={'show_id':'s2'})"
      ],
      "execution_count": 53,
      "outputs": []
    },
    {
      "cell_type": "code",
      "metadata": {
        "colab": {
          "base_uri": "https://localhost:8080/",
          "height": 374
        },
        "id": "7BGm93r5RezH",
        "outputId": "57d21da0-5929-4977-cdbc-f007b61d152e"
      },
      "source": [
        "## we can then use is na to filter out these missing values\r\n",
        "df.head()"
      ],
      "execution_count": 56,
      "outputs": [
        {
          "output_type": "execute_result",
          "data": {
            "text/html": [
              "<div>\n",
              "<style scoped>\n",
              "    .dataframe tbody tr th:only-of-type {\n",
              "        vertical-align: middle;\n",
              "    }\n",
              "\n",
              "    .dataframe tbody tr th {\n",
              "        vertical-align: top;\n",
              "    }\n",
              "\n",
              "    .dataframe thead th {\n",
              "        text-align: right;\n",
              "    }\n",
              "</style>\n",
              "<table border=\"1\" class=\"dataframe\">\n",
              "  <thead>\n",
              "    <tr style=\"text-align: right;\">\n",
              "      <th></th>\n",
              "      <th>show_id</th>\n",
              "      <th>type</th>\n",
              "      <th>title</th>\n",
              "      <th>director</th>\n",
              "      <th>cast</th>\n",
              "      <th>country</th>\n",
              "      <th>date_added</th>\n",
              "      <th>release_year</th>\n",
              "      <th>rating</th>\n",
              "      <th>duration</th>\n",
              "      <th>listed_in</th>\n",
              "      <th>description</th>\n",
              "    </tr>\n",
              "  </thead>\n",
              "  <tbody>\n",
              "    <tr>\n",
              "      <th>0</th>\n",
              "      <td>s1</td>\n",
              "      <td>TV Show</td>\n",
              "      <td>3%</td>\n",
              "      <td>NaN</td>\n",
              "      <td>João Miguel, Bianca Comparato, Michel Gomes, R...</td>\n",
              "      <td>Brazil</td>\n",
              "      <td>2020-08-14</td>\n",
              "      <td>2020</td>\n",
              "      <td>TV-MA</td>\n",
              "      <td>4 Seasons</td>\n",
              "      <td>International TV Shows, TV Dramas, TV Sci-Fi &amp;...</td>\n",
              "      <td>In a future where the elite inhabit an island ...</td>\n",
              "    </tr>\n",
              "    <tr>\n",
              "      <th>1</th>\n",
              "      <td>NaN</td>\n",
              "      <td>Movie</td>\n",
              "      <td>7:19</td>\n",
              "      <td>Jorge Michel Grau</td>\n",
              "      <td>Demián Bichir, Héctor Bonilla, Oscar Serrano, ...</td>\n",
              "      <td>Mexico</td>\n",
              "      <td>2016-12-23</td>\n",
              "      <td>2016</td>\n",
              "      <td>TV-MA</td>\n",
              "      <td>93 min</td>\n",
              "      <td>Dramas, International Movies</td>\n",
              "      <td>After a devastating earthquake hits Mexico Cit...</td>\n",
              "    </tr>\n",
              "    <tr>\n",
              "      <th>2</th>\n",
              "      <td>s3</td>\n",
              "      <td>Movie</td>\n",
              "      <td>23:59</td>\n",
              "      <td>Gilbert Chan</td>\n",
              "      <td>Tedd Chan, Stella Chung, Henley Hii, Lawrence ...</td>\n",
              "      <td>Singapore</td>\n",
              "      <td>2018-12-20</td>\n",
              "      <td>2011</td>\n",
              "      <td>R</td>\n",
              "      <td>78 min</td>\n",
              "      <td>Horror Movies, International Movies</td>\n",
              "      <td>When an army recruit is found dead, his fellow...</td>\n",
              "    </tr>\n",
              "    <tr>\n",
              "      <th>3</th>\n",
              "      <td>s4</td>\n",
              "      <td>Movie</td>\n",
              "      <td>9</td>\n",
              "      <td>Shane Acker</td>\n",
              "      <td>Elijah Wood, John C. Reilly, Jennifer Connelly...</td>\n",
              "      <td>United States</td>\n",
              "      <td>2017-11-16</td>\n",
              "      <td>2009</td>\n",
              "      <td>PG-13</td>\n",
              "      <td>80 min</td>\n",
              "      <td>Action &amp; Adventure, Independent Movies, Sci-Fi...</td>\n",
              "      <td>In a postapocalyptic world, rag-doll robots hi...</td>\n",
              "    </tr>\n",
              "    <tr>\n",
              "      <th>4</th>\n",
              "      <td>s5</td>\n",
              "      <td>Movie</td>\n",
              "      <td>21</td>\n",
              "      <td>Robert Luketic</td>\n",
              "      <td>Jim Sturgess, Kevin Spacey, Kate Bosworth, Aar...</td>\n",
              "      <td>United States</td>\n",
              "      <td>2020-01-01</td>\n",
              "      <td>2008</td>\n",
              "      <td>PG-13</td>\n",
              "      <td>123 min</td>\n",
              "      <td>Dramas</td>\n",
              "      <td>A brilliant group of students become card-coun...</td>\n",
              "    </tr>\n",
              "  </tbody>\n",
              "</table>\n",
              "</div>"
            ],
            "text/plain": [
              "  show_id  ...                                        description\n",
              "0      s1  ...  In a future where the elite inhabit an island ...\n",
              "1     NaN  ...  After a devastating earthquake hits Mexico Cit...\n",
              "2      s3  ...  When an army recruit is found dead, his fellow...\n",
              "3      s4  ...  In a postapocalyptic world, rag-doll robots hi...\n",
              "4      s5  ...  A brilliant group of students become card-coun...\n",
              "\n",
              "[5 rows x 12 columns]"
            ]
          },
          "metadata": {
            "tags": []
          },
          "execution_count": 56
        }
      ]
    },
    {
      "cell_type": "code",
      "metadata": {
        "id": "wDBnxQ-qRgYb"
      },
      "source": [
        "### load data when there are errors, ie skip error or rows with not matching columns\r\n",
        "df=pd.read_csv('/content/gdrive/MyDrive/Colab/Data/netflix/netflix_titles.csv',sep=',',error_bad_lines=False)"
      ],
      "execution_count": 57,
      "outputs": []
    },
    {
      "cell_type": "code",
      "metadata": {
        "id": "hD77wrr-UqsG"
      },
      "source": [
        "## to json column orient\r\n",
        "df2=pd.read_csv('/content/gdrive/MyDrive/Colab/Data/netflix/netflix_titles.csv',sep=',',error_bad_lines=False).to_json(orient='columns')"
      ],
      "execution_count": 141,
      "outputs": []
    },
    {
      "cell_type": "code",
      "metadata": {
        "id": "zCAFtMNzdHvw"
      },
      "source": [
        "## to json row orient\r\n",
        "df2=pd.read_csv('/content/gdrive/MyDrive/Colab/Data/netflix/netflix_titles.csv',sep=',',error_bad_lines=False).to_json(orient='records')"
      ],
      "execution_count": 138,
      "outputs": []
    },
    {
      "cell_type": "code",
      "metadata": {
        "colab": {
          "base_uri": "https://localhost:8080/",
          "height": 114
        },
        "id": "6x7Qf-7cdHMj",
        "outputId": "f7716522-bdcb-4681-917d-92f68a940244"
      },
      "source": [
        "pd.read_json(df2,orient='records').head(1)"
      ],
      "execution_count": 73,
      "outputs": [
        {
          "output_type": "execute_result",
          "data": {
            "text/html": [
              "<div>\n",
              "<style scoped>\n",
              "    .dataframe tbody tr th:only-of-type {\n",
              "        vertical-align: middle;\n",
              "    }\n",
              "\n",
              "    .dataframe tbody tr th {\n",
              "        vertical-align: top;\n",
              "    }\n",
              "\n",
              "    .dataframe thead th {\n",
              "        text-align: right;\n",
              "    }\n",
              "</style>\n",
              "<table border=\"1\" class=\"dataframe\">\n",
              "  <thead>\n",
              "    <tr style=\"text-align: right;\">\n",
              "      <th></th>\n",
              "      <th>show_id</th>\n",
              "      <th>type</th>\n",
              "      <th>title</th>\n",
              "      <th>director</th>\n",
              "      <th>cast</th>\n",
              "      <th>country</th>\n",
              "      <th>date_added</th>\n",
              "      <th>release_year</th>\n",
              "      <th>rating</th>\n",
              "      <th>duration</th>\n",
              "      <th>listed_in</th>\n",
              "      <th>description</th>\n",
              "    </tr>\n",
              "  </thead>\n",
              "  <tbody>\n",
              "    <tr>\n",
              "      <th>0</th>\n",
              "      <td>s1</td>\n",
              "      <td>TV Show</td>\n",
              "      <td>3%</td>\n",
              "      <td>None</td>\n",
              "      <td>João Miguel, Bianca Comparato, Michel Gomes, R...</td>\n",
              "      <td>Brazil</td>\n",
              "      <td>14-Aug-20</td>\n",
              "      <td>2020</td>\n",
              "      <td>TV-MA</td>\n",
              "      <td>4 Seasons</td>\n",
              "      <td>International TV Shows, TV Dramas, TV Sci-Fi &amp;...</td>\n",
              "      <td>In a future where the elite inhabit an island ...</td>\n",
              "    </tr>\n",
              "  </tbody>\n",
              "</table>\n",
              "</div>"
            ],
            "text/plain": [
              "  show_id  ...                                        description\n",
              "0      s1  ...  In a future where the elite inhabit an island ...\n",
              "\n",
              "[1 rows x 12 columns]"
            ]
          },
          "metadata": {
            "tags": []
          },
          "execution_count": 73
        }
      ]
    },
    {
      "cell_type": "code",
      "metadata": {
        "id": "lLwVR2trd0ax"
      },
      "source": [
        "## flatten nested json\r\n",
        "from pandas.io.json import json_normalize\r\n",
        "import json"
      ],
      "execution_count": 78,
      "outputs": []
    },
    {
      "cell_type": "code",
      "metadata": {
        "id": "DYPrNEhjfchk"
      },
      "source": [
        "df=pd.read_json('/content/gdrive/MyDrive/Colab/Data/nested_json.json')"
      ],
      "execution_count": 75,
      "outputs": []
    },
    {
      "cell_type": "code",
      "metadata": {
        "id": "MuivWcw0gvKc"
      },
      "source": [
        "with open('/content/gdrive/MyDrive/Colab/Data/nested_json.json') as f:\r\n",
        "    d = json.load(f)"
      ],
      "execution_count": 79,
      "outputs": []
    },
    {
      "cell_type": "code",
      "metadata": {
        "colab": {
          "base_uri": "https://localhost:8080/"
        },
        "id": "C7tnDkxci_E5",
        "outputId": "cf30a42e-9721-4cd7-beab-a90f0b1fe44f"
      },
      "source": [
        "df=json_normalize(d['programs'])"
      ],
      "execution_count": 94,
      "outputs": [
        {
          "output_type": "stream",
          "text": [
            "/usr/local/lib/python3.6/dist-packages/ipykernel_launcher.py:1: FutureWarning: pandas.io.json.json_normalize is deprecated, use pandas.json_normalize instead\n",
            "  \"\"\"Entry point for launching an IPython kernel.\n"
          ],
          "name": "stderr"
        }
      ]
    },
    {
      "cell_type": "code",
      "metadata": {
        "colab": {
          "base_uri": "https://localhost:8080/",
          "height": 289
        },
        "id": "vyrJZEQjjFWA",
        "outputId": "7ec0ddc7-dbe6-4254-d591-b528c8ee500f"
      },
      "source": [
        "df.head()"
      ],
      "execution_count": 95,
      "outputs": [
        {
          "output_type": "execute_result",
          "data": {
            "text/html": [
              "<div>\n",
              "<style scoped>\n",
              "    .dataframe tbody tr th:only-of-type {\n",
              "        vertical-align: middle;\n",
              "    }\n",
              "\n",
              "    .dataframe tbody tr th {\n",
              "        vertical-align: top;\n",
              "    }\n",
              "\n",
              "    .dataframe thead th {\n",
              "        text-align: right;\n",
              "    }\n",
              "</style>\n",
              "<table border=\"1\" class=\"dataframe\">\n",
              "  <thead>\n",
              "    <tr style=\"text-align: right;\">\n",
              "      <th></th>\n",
              "      <th>season</th>\n",
              "      <th>orchestra</th>\n",
              "      <th>concerts</th>\n",
              "      <th>programID</th>\n",
              "      <th>works</th>\n",
              "      <th>id</th>\n",
              "    </tr>\n",
              "  </thead>\n",
              "  <tbody>\n",
              "    <tr>\n",
              "      <th>0</th>\n",
              "      <td>1842-43</td>\n",
              "      <td>New York Philharmonic</td>\n",
              "      <td>[{'Date': '1842-12-07T05:00:00Z', 'eventType':...</td>\n",
              "      <td>3853</td>\n",
              "      <td>[{'workTitle': 'SYMPHONY NO. 5 IN C MINOR, OP....</td>\n",
              "      <td>38e072a7-8fc9-4f9a-8eac-3957905c0002</td>\n",
              "    </tr>\n",
              "    <tr>\n",
              "      <th>1</th>\n",
              "      <td>1842-43</td>\n",
              "      <td>New York Philharmonic</td>\n",
              "      <td>[{'Date': '1843-02-18T05:00:00Z', 'eventType':...</td>\n",
              "      <td>5178</td>\n",
              "      <td>[{'workTitle': 'SYMPHONY NO. 3 IN E FLAT MAJOR...</td>\n",
              "      <td>c7b2b95c-5e0b-431c-a340-5b37fc860b34</td>\n",
              "    </tr>\n",
              "    <tr>\n",
              "      <th>2</th>\n",
              "      <td>1842-43</td>\n",
              "      <td>Musicians from the New York Philharmonic</td>\n",
              "      <td>[{'Date': '1843-04-07T05:00:00Z', 'eventType':...</td>\n",
              "      <td>10785</td>\n",
              "      <td>[{'workTitle': 'EGMONT, OP.84', 'composerName'...</td>\n",
              "      <td>894e1a52-1ae5-4fa7-aec0-b99997555a37</td>\n",
              "    </tr>\n",
              "    <tr>\n",
              "      <th>3</th>\n",
              "      <td>1842-43</td>\n",
              "      <td>New York Philharmonic</td>\n",
              "      <td>[{'Date': '1843-04-22T05:00:00Z', 'eventType':...</td>\n",
              "      <td>5887</td>\n",
              "      <td>[{'workTitle': 'SYMPHONY NO. 2 IN D MAJOR, OP....</td>\n",
              "      <td>34ec2c2b-3297-4716-9831-b538310462b7</td>\n",
              "    </tr>\n",
              "    <tr>\n",
              "      <th>4</th>\n",
              "      <td>1843-44</td>\n",
              "      <td>New York Philharmonic</td>\n",
              "      <td>[{'Date': '1843-11-18T05:00:00Z', 'eventType':...</td>\n",
              "      <td>305</td>\n",
              "      <td>[{'workTitle': 'SYMPHONY NO. 7 IN A MAJOR, OP....</td>\n",
              "      <td>610a4acc-94e4-4cd6-bdc1-8ad020edc7e9</td>\n",
              "    </tr>\n",
              "  </tbody>\n",
              "</table>\n",
              "</div>"
            ],
            "text/plain": [
              "    season  ...                                    id\n",
              "0  1842-43  ...  38e072a7-8fc9-4f9a-8eac-3957905c0002\n",
              "1  1842-43  ...  c7b2b95c-5e0b-431c-a340-5b37fc860b34\n",
              "2  1842-43  ...  894e1a52-1ae5-4fa7-aec0-b99997555a37\n",
              "3  1842-43  ...  34ec2c2b-3297-4716-9831-b538310462b7\n",
              "4  1843-44  ...  610a4acc-94e4-4cd6-bdc1-8ad020edc7e9\n",
              "\n",
              "[5 rows x 6 columns]"
            ]
          },
          "metadata": {
            "tags": []
          },
          "execution_count": 95
        }
      ]
    },
    {
      "cell_type": "code",
      "metadata": {
        "id": "W1gQmWF7jIgK"
      },
      "source": [
        "data = [{'state': 'Florida',\r\n",
        "...          'shortname': 'FL',\r\n",
        "...          'info': {\r\n",
        "...               'governor': '1'\r\n",
        "...          },\r\n",
        "...          'counties': [{'name': 'Dade', 'population': 12345},\r\n",
        "...                      {'name': 'Broward', 'population': 40000},\r\n",
        "...                      {'name': 'Palm Beach', 'population': 60000}]},\r\n",
        "...         {'state': 'Ohio',\r\n",
        "...          'shortname': 'OH',\r\n",
        "...          'info': {\r\n",
        "...               'governor': '2',\r\n",
        "                  'yoe':12\r\n",
        "...          },\r\n",
        "...          'counties': [{'name': 's', 'population': 1234},\r\n",
        "...                       {'name': 'Cuyahoga', 'population': 1337}]}]"
      ],
      "execution_count": 108,
      "outputs": []
    },
    {
      "cell_type": "code",
      "metadata": {
        "colab": {
          "base_uri": "https://localhost:8080/",
          "height": 145
        },
        "id": "sDGbaph6pwbf",
        "outputId": "1c2f0035-040d-4f70-872e-c4e1f99419dc"
      },
      "source": [
        "df=json_normalize(data)\r\n",
        "df"
      ],
      "execution_count": 109,
      "outputs": [
        {
          "output_type": "stream",
          "text": [
            "/usr/local/lib/python3.6/dist-packages/ipykernel_launcher.py:1: FutureWarning: pandas.io.json.json_normalize is deprecated, use pandas.json_normalize instead\n",
            "  \"\"\"Entry point for launching an IPython kernel.\n"
          ],
          "name": "stderr"
        },
        {
          "output_type": "execute_result",
          "data": {
            "text/html": [
              "<div>\n",
              "<style scoped>\n",
              "    .dataframe tbody tr th:only-of-type {\n",
              "        vertical-align: middle;\n",
              "    }\n",
              "\n",
              "    .dataframe tbody tr th {\n",
              "        vertical-align: top;\n",
              "    }\n",
              "\n",
              "    .dataframe thead th {\n",
              "        text-align: right;\n",
              "    }\n",
              "</style>\n",
              "<table border=\"1\" class=\"dataframe\">\n",
              "  <thead>\n",
              "    <tr style=\"text-align: right;\">\n",
              "      <th></th>\n",
              "      <th>state</th>\n",
              "      <th>shortname</th>\n",
              "      <th>counties</th>\n",
              "      <th>info.governor</th>\n",
              "      <th>info.yoe</th>\n",
              "    </tr>\n",
              "  </thead>\n",
              "  <tbody>\n",
              "    <tr>\n",
              "      <th>0</th>\n",
              "      <td>Florida</td>\n",
              "      <td>FL</td>\n",
              "      <td>[{'name': 'Dade', 'population': 12345}, {'name...</td>\n",
              "      <td>1</td>\n",
              "      <td>NaN</td>\n",
              "    </tr>\n",
              "    <tr>\n",
              "      <th>1</th>\n",
              "      <td>Ohio</td>\n",
              "      <td>OH</td>\n",
              "      <td>[{'name': 's', 'population': 1234}, {'name': '...</td>\n",
              "      <td>2</td>\n",
              "      <td>12.0</td>\n",
              "    </tr>\n",
              "  </tbody>\n",
              "</table>\n",
              "</div>"
            ],
            "text/plain": [
              "     state shortname  ... info.governor info.yoe\n",
              "0  Florida        FL  ...             1      NaN\n",
              "1     Ohio        OH  ...             2     12.0\n",
              "\n",
              "[2 rows x 5 columns]"
            ]
          },
          "metadata": {
            "tags": []
          },
          "execution_count": 109
        }
      ]
    },
    {
      "cell_type": "code",
      "metadata": {
        "colab": {
          "base_uri": "https://localhost:8080/",
          "height": 145
        },
        "id": "5_6ft4DVp1BZ",
        "outputId": "8ec0ef73-3412-446f-e0b7-c11b9982093c"
      },
      "source": [
        "## by default . parameter is used to indicate levels, use sep to change to _\r\n",
        "df=json_normalize(data,sep='_')\r\n",
        "df"
      ],
      "execution_count": 110,
      "outputs": [
        {
          "output_type": "stream",
          "text": [
            "/usr/local/lib/python3.6/dist-packages/ipykernel_launcher.py:2: FutureWarning: pandas.io.json.json_normalize is deprecated, use pandas.json_normalize instead\n",
            "  \n"
          ],
          "name": "stderr"
        },
        {
          "output_type": "execute_result",
          "data": {
            "text/html": [
              "<div>\n",
              "<style scoped>\n",
              "    .dataframe tbody tr th:only-of-type {\n",
              "        vertical-align: middle;\n",
              "    }\n",
              "\n",
              "    .dataframe tbody tr th {\n",
              "        vertical-align: top;\n",
              "    }\n",
              "\n",
              "    .dataframe thead th {\n",
              "        text-align: right;\n",
              "    }\n",
              "</style>\n",
              "<table border=\"1\" class=\"dataframe\">\n",
              "  <thead>\n",
              "    <tr style=\"text-align: right;\">\n",
              "      <th></th>\n",
              "      <th>state</th>\n",
              "      <th>shortname</th>\n",
              "      <th>counties</th>\n",
              "      <th>info_governor</th>\n",
              "      <th>info_yoe</th>\n",
              "    </tr>\n",
              "  </thead>\n",
              "  <tbody>\n",
              "    <tr>\n",
              "      <th>0</th>\n",
              "      <td>Florida</td>\n",
              "      <td>FL</td>\n",
              "      <td>[{'name': 'Dade', 'population': 12345}, {'name...</td>\n",
              "      <td>1</td>\n",
              "      <td>NaN</td>\n",
              "    </tr>\n",
              "    <tr>\n",
              "      <th>1</th>\n",
              "      <td>Ohio</td>\n",
              "      <td>OH</td>\n",
              "      <td>[{'name': 's', 'population': 1234}, {'name': '...</td>\n",
              "      <td>2</td>\n",
              "      <td>12.0</td>\n",
              "    </tr>\n",
              "  </tbody>\n",
              "</table>\n",
              "</div>"
            ],
            "text/plain": [
              "     state shortname  ... info_governor info_yoe\n",
              "0  Florida        FL  ...             1      NaN\n",
              "1     Ohio        OH  ...             2     12.0\n",
              "\n",
              "[2 rows x 5 columns]"
            ]
          },
          "metadata": {
            "tags": []
          },
          "execution_count": 110
        }
      ]
    },
    {
      "cell_type": "code",
      "metadata": {
        "id": "Rkz_4eclp-qS"
      },
      "source": [
        "data={\r\n",
        "  \"tracks\": [{\r\n",
        "      \"album\": {\r\n",
        "        \"album_type\": \"album\",\r\n",
        "        \"artists\": [{\r\n",
        "            \"external_urls\": {\r\n",
        "              \"spotify\": \"https://open.spotify.com/artist/7wyRA7deGRxozTyBc6QXPe\"\r\n",
        "            },\r\n",
        "            \"href\": \"https://api.spotify.com/v1/artists/7wyRA7deGRxozTyBc6QXPe\",\r\n",
        "            \"id\": \"7wyRA7deGRxozTyBc6QXPe\",\r\n",
        "            \"name\": \"Stephen Malkmus & The Jicks\",\r\n",
        "            \"type\": \"artist\",\r\n",
        "            \"uri\": \"spotify:artist:7wyRA7deGRxozTyBc6QXPe\"\r\n",
        "          },\r\n",
        "          {\r\n",
        "            \"external_urls\": {\r\n",
        "              \"spotify\": \"https://open.spotify.com/artist/0WISkx0PwT6lYWdPqKUJY8\"\r\n",
        "            },\r\n",
        "            \"href\": \"https://api.spotify.com/v1/artists/0WISkx0PwT6lYWdPqKUJY8\",\r\n",
        "            \"id\": \"0WISkx0PwT6lYWdPqKUJY8\",\r\n",
        "            \"name\": \"Stephen Malkmus\",\r\n",
        "            \"type\": \"artist\",\r\n",
        "            \"uri\": \"spotify:artist:0WISkx0PwT6lYWdPqKUJY8\"\r\n",
        "          },\r\n",
        "          {\r\n",
        "            \"external_urls\": {\r\n",
        "              \"spotify\": \"https://open.spotify.com/artist/7uStwCeP54Za8gXUFCf5L7\"\r\n",
        "            },\r\n",
        "            \"href\": \"https://api.spotify.com/v1/artists/7uStwCeP54Za8gXUFCf5L7\",\r\n",
        "            \"id\": \"7uStwCeP54Za8gXUFCf5L7\",\r\n",
        "            \"name\": \"The Jicks\",\r\n",
        "            \"type\": \"artist\",\r\n",
        "            \"uri\": \"spotify:artist:7uStwCeP54Za8gXUFCf5L7\"\r\n",
        "          }\r\n",
        "        ],\r\n",
        "        \"available_markets\": [\"AR\",\r\n",
        "          \"BO\",\r\n",
        "          \"BR\",\r\n",
        "          \"CA\",\r\n",
        "          \"CL\",\r\n",
        "          \"CO\",\r\n",
        "          \"CR\",\r\n",
        "          \"EC\",\r\n",
        "          \"GT\",\r\n",
        "          \"HK\",\r\n",
        "          \"HN\",\r\n",
        "          \"ID\",\r\n",
        "          \"MX\",\r\n",
        "          \"MY\",\r\n",
        "          \"NI\",\r\n",
        "          \"PA\",\r\n",
        "          \"PE\",\r\n",
        "          \"PH\",\r\n",
        "          \"PY\",\r\n",
        "          \"SG\",\r\n",
        "          \"SV\",\r\n",
        "          \"TH\",\r\n",
        "          \"TW\",\r\n",
        "          \"US\",\r\n",
        "          \"UY\",\r\n",
        "          \"VN\"\r\n",
        "        ],\r\n",
        "        \"external_urls\": {\r\n",
        "          \"spotify\": \"https://open.spotify.com/album/6pWpb4IdPu9vp9mOdh5DjY\"\r\n",
        "        },\r\n",
        "        \"href\": \"https://api.spotify.com/v1/albums/6pWpb4IdPu9vp9mOdh5DjY\",\r\n",
        "        \"id\": \"6pWpb4IdPu9vp9mOdh5DjY\",\r\n",
        "        \"images\": [{\r\n",
        "            \"height\": 640,\r\n",
        "            \"url\": \"https://i.scdn.co/image/918fdb6fdffccf2bd2dd1a1a93136000f8cf9bd3\",\r\n",
        "            \"width\": 640\r\n",
        "          },\r\n",
        "          {\r\n",
        "            \"height\": 300,\r\n",
        "            \"url\": \"https://i.scdn.co/image/fb39290ebca6fac424d4a40611a7e0d1146c5f88\",\r\n",
        "            \"width\": 300\r\n",
        "          },\r\n",
        "          {\r\n",
        "            \"height\": 64,\r\n",
        "            \"url\": \"https://i.scdn.co/image/873da4a0a21acd96e4a0036c9ecd0580b62652d4\",\r\n",
        "            \"width\": 64\r\n",
        "          }\r\n",
        "        ],\r\n",
        "        \"name\": \"Real Emotional Trash\",\r\n",
        "        \"release_date\": \"2008-03-04\",\r\n",
        "        \"release_date_precision\": \"day\",\r\n",
        "        \"type\": \"album\",\r\n",
        "        \"uri\": \"spotify:album:6pWpb4IdPu9vp9mOdh5DjY\"\r\n",
        "      },\r\n",
        "      \"artists\": [{\r\n",
        "          \"external_urls\": {\r\n",
        "            \"spotify\": \"https://open.spotify.com/artist/7wyRA7deGRxozTyBc6QXPe\"\r\n",
        "          },\r\n",
        "          \"href\": \"https://api.spotify.com/v1/artists/7wyRA7deGRxozTyBc6QXPe\",\r\n",
        "          \"id\": \"7wyRA7deGRxozTyBc6QXPe\",\r\n",
        "          \"name\": \"Stephen Malkmus & The Jicks\",\r\n",
        "          \"type\": \"artist\",\r\n",
        "          \"uri\": \"spotify:artist:7wyRA7deGRxozTyBc6QXPe\"\r\n",
        "        },\r\n",
        "        {\r\n",
        "          \"external_urls\": {\r\n",
        "            \"spotify\": \"https://open.spotify.com/artist/0WISkx0PwT6lYWdPqKUJY8\"\r\n",
        "          },\r\n",
        "          \"href\": \"https://api.spotify.com/v1/artists/0WISkx0PwT6lYWdPqKUJY8\",\r\n",
        "          \"id\": \"0WISkx0PwT6lYWdPqKUJY8\",\r\n",
        "          \"name\": \"Stephen Malkmus\",\r\n",
        "          \"type\": \"artist\",\r\n",
        "          \"uri\": \"spotify:artist:0WISkx0PwT6lYWdPqKUJY8\"\r\n",
        "        },\r\n",
        "        {\r\n",
        "          \"external_urls\": {\r\n",
        "            \"spotify\": \"https://open.spotify.com/artist/7uStwCeP54Za8gXUFCf5L7\"\r\n",
        "          },\r\n",
        "          \"href\": \"https://api.spotify.com/v1/artists/7uStwCeP54Za8gXUFCf5L7\",\r\n",
        "          \"id\": \"7uStwCeP54Za8gXUFCf5L7\",\r\n",
        "          \"name\": \"The Jicks\",\r\n",
        "          \"type\": \"artist\",\r\n",
        "          \"uri\": \"spotify:artist:7uStwCeP54Za8gXUFCf5L7\"\r\n",
        "        }\r\n",
        "      ],\r\n",
        "      \"available_markets\": [\"AR\",\r\n",
        "        \"BO\",\r\n",
        "        \"BR\",\r\n",
        "        \"CA\",\r\n",
        "        \"CL\",\r\n",
        "        \"CO\",\r\n",
        "        \"CR\",\r\n",
        "        \"EC\",\r\n",
        "        \"GT\",\r\n",
        "        \"HK\",\r\n",
        "        \"HN\",\r\n",
        "        \"ID\",\r\n",
        "        \"MX\",\r\n",
        "        \"MY\",\r\n",
        "        \"NI\",\r\n",
        "        \"PA\",\r\n",
        "        \"PE\",\r\n",
        "        \"PH\",\r\n",
        "        \"PY\",\r\n",
        "        \"SG\",\r\n",
        "        \"SV\",\r\n",
        "        \"TH\",\r\n",
        "        \"TW\",\r\n",
        "        \"US\",\r\n",
        "        \"UY\",\r\n",
        "        \"VN\"\r\n",
        "      ],\r\n",
        "      \"disc_number\": 1,\r\n",
        "      \"duration_ms\": 608826,\r\n",
        "      \"explicit\": False,\r\n",
        "      \"external_ids\": {\r\n",
        "        \"isrc\": \"USMTD0877204\"\r\n",
        "      },\r\n",
        "      \"external_urls\": {\r\n",
        "        \"spotify\": \"https://open.spotify.com/track/0BDYBajZydY54OTgQsH940\"\r\n",
        "      },\r\n",
        "      \"href\": \"https://api.spotify.com/v1/tracks/0BDYBajZydY54OTgQsH940\",\r\n",
        "      \"id\": \"0BDYBajZydY54OTgQsH940\",\r\n",
        "      \"is_local\": False,\r\n",
        "      \"name\": \"Real Emotional Trash\",\r\n",
        "      \"popularity\": 21,\r\n",
        "      \"preview_url\": \"https://p.scdn.co/mp3-preview/4fcbcd5a99fc7590d5819849e1aad3eff981dc75?cid=be22fd00039241bc96d161a63876b54c\",\r\n",
        "      \"track_number\": 4,\r\n",
        "      \"type\": \"track\",\r\n",
        "      \"uri\": \"spotify:track:0BDYBajZydY54OTgQsH940\"\r\n",
        "    },\r\n",
        "    {\r\n",
        "      \"album\": {\r\n",
        "        \"album_type\": \"album\",\r\n",
        "        \"artists\": [{\r\n",
        "            \"external_urls\": {\r\n",
        "              \"spotify\": \"https://open.spotify.com/artist/7wyRA7deGRxozTyBc6QXPe\"\r\n",
        "            },\r\n",
        "            \"href\": \"https://api.spotify.com/v1/artists/7wyRA7deGRxozTyBc6QXPe\",\r\n",
        "            \"id\": \"7wyRA7deGRxozTyBc6QXPe\",\r\n",
        "            \"name\": \"Stephen Malkmus & The Jicks\",\r\n",
        "            \"type\": \"artist\",\r\n",
        "            \"uri\": \"spotify:artist:7wyRA7deGRxozTyBc6QXPe\"\r\n",
        "          },\r\n",
        "          {\r\n",
        "            \"external_urls\": {\r\n",
        "              \"spotify\": \"https://open.spotify.com/artist/0WISkx0PwT6lYWdPqKUJY8\"\r\n",
        "            },\r\n",
        "            \"href\": \"https://api.spotify.com/v1/artists/0WISkx0PwT6lYWdPqKUJY8\",\r\n",
        "            \"id\": \"0WISkx0PwT6lYWdPqKUJY8\",\r\n",
        "            \"name\": \"Stephen Malkmus\",\r\n",
        "            \"type\": \"artist\",\r\n",
        "            \"uri\": \"spotify:artist:0WISkx0PwT6lYWdPqKUJY8\"\r\n",
        "          },\r\n",
        "          {\r\n",
        "            \"external_urls\": {\r\n",
        "              \"spotify\": \"https://open.spotify.com/artist/7uStwCeP54Za8gXUFCf5L7\"\r\n",
        "            },\r\n",
        "            \"href\": \"https://api.spotify.com/v1/artists/7uStwCeP54Za8gXUFCf5L7\",\r\n",
        "            \"id\": \"7uStwCeP54Za8gXUFCf5L7\",\r\n",
        "            \"name\": \"The Jicks\",\r\n",
        "            \"type\": \"artist\",\r\n",
        "            \"uri\": \"spotify:artist:7uStwCeP54Za8gXUFCf5L7\"\r\n",
        "          }\r\n",
        "        ],\r\n",
        "        \"available_markets\": [\"AR\",\r\n",
        "          \"BO\",\r\n",
        "          \"BR\",\r\n",
        "          \"CA\",\r\n",
        "          \"CL\",\r\n",
        "          \"CO\",\r\n",
        "          \"CR\",\r\n",
        "          \"EC\",\r\n",
        "          \"GT\",\r\n",
        "          \"HK\",\r\n",
        "          \"HN\",\r\n",
        "          \"ID\",\r\n",
        "          \"MX\",\r\n",
        "          \"MY\",\r\n",
        "          \"NI\",\r\n",
        "          \"PA\",\r\n",
        "          \"PE\",\r\n",
        "          \"PH\",\r\n",
        "          \"PY\",\r\n",
        "          \"SG\",\r\n",
        "          \"SV\",\r\n",
        "          \"TH\",\r\n",
        "          \"TW\",\r\n",
        "          \"US\",\r\n",
        "          \"UY\",\r\n",
        "          \"VN\"\r\n",
        "        ],\r\n",
        "        \"external_urls\": {\r\n",
        "          \"spotify\": \"https://open.spotify.com/album/6pWpb4IdPu9vp9mOdh5DjY\"\r\n",
        "        },\r\n",
        "        \"href\": \"https://api.spotify.com/v1/albums/6pWpb4IdPu9vp9mOdh5DjY\",\r\n",
        "        \"id\": \"6pWpb4IdPu9vp9mOdh5DjY\",\r\n",
        "        \"images\": [{\r\n",
        "            \"height\": 640,\r\n",
        "            \"url\": \"https://i.scdn.co/image/918fdb6fdffccf2bd2dd1a1a93136000f8cf9bd3\",\r\n",
        "            \"width\": 640\r\n",
        "          },\r\n",
        "          {\r\n",
        "            \"height\": 300,\r\n",
        "            \"url\": \"https://i.scdn.co/image/fb39290ebca6fac424d4a40611a7e0d1146c5f88\",\r\n",
        "            \"width\": 300\r\n",
        "          },\r\n",
        "          {\r\n",
        "            \"height\": 64,\r\n",
        "            \"url\": \"https://i.scdn.co/image/873da4a0a21acd96e4a0036c9ecd0580b62652d4\",\r\n",
        "            \"width\": 64\r\n",
        "          }\r\n",
        "        ],\r\n",
        "        \"name\": \"Real Emotional Trash\",\r\n",
        "        \"release_date\": \"2008-03-04\",\r\n",
        "        \"release_date_precision\": \"day\",\r\n",
        "        \"type\": \"album\",\r\n",
        "        \"uri\": \"spotify:album:6pWpb4IdPu9vp9mOdh5DjY\"\r\n",
        "      },\r\n",
        "      \"artists\": [{\r\n",
        "          \"external_urls\": {\r\n",
        "            \"spotify\": \"https://open.spotify.com/artist/7wyRA7deGRxozTyBc6QXPe\"\r\n",
        "          },\r\n",
        "          \"href\": \"https://api.spotify.com/v1/artists/7wyRA7deGRxozTyBc6QXPe\",\r\n",
        "          \"id\": \"7wyRA7deGRxozTyBc6QXPe\",\r\n",
        "          \"name\": \"Stephen Malkmus & The Jicks\",\r\n",
        "          \"type\": \"artist\",\r\n",
        "          \"uri\": \"spotify:artist:7wyRA7deGRxozTyBc6QXPe\"\r\n",
        "        },\r\n",
        "        {\r\n",
        "          \"external_urls\": {\r\n",
        "            \"spotify\": \"https://open.spotify.com/artist/0WISkx0PwT6lYWdPqKUJY8\"\r\n",
        "          },\r\n",
        "          \"href\": \"https://api.spotify.com/v1/artists/0WISkx0PwT6lYWdPqKUJY8\",\r\n",
        "          \"id\": \"0WISkx0PwT6lYWdPqKUJY8\",\r\n",
        "          \"name\": \"Stephen Malkmus\",\r\n",
        "          \"type\": \"artist\",\r\n",
        "          \"uri\": \"spotify:artist:0WISkx0PwT6lYWdPqKUJY8\"\r\n",
        "        },\r\n",
        "        {\r\n",
        "          \"external_urls\": {\r\n",
        "            \"spotify\": \"https://open.spotify.com/artist/7uStwCeP54Za8gXUFCf5L7\"\r\n",
        "          },\r\n",
        "          \"href\": \"https://api.spotify.com/v1/artists/7uStwCeP54Za8gXUFCf5L7\",\r\n",
        "          \"id\": \"7uStwCeP54Za8gXUFCf5L7\",\r\n",
        "          \"name\": \"The Jicks\",\r\n",
        "          \"type\": \"artist\",\r\n",
        "          \"uri\": \"spotify:artist:7uStwCeP54Za8gXUFCf5L7\"\r\n",
        "        }\r\n",
        "      ],\r\n",
        "      \"available_markets\": [\"AR\",\r\n",
        "        \"BO\",\r\n",
        "        \"BR\",\r\n",
        "        \"CA\",\r\n",
        "        \"CL\",\r\n",
        "        \"CO\",\r\n",
        "        \"CR\",\r\n",
        "        \"EC\",\r\n",
        "        \"GT\",\r\n",
        "        \"HK\",\r\n",
        "        \"HN\",\r\n",
        "        \"ID\",\r\n",
        "        \"MX\",\r\n",
        "        \"MY\",\r\n",
        "        \"NI\",\r\n",
        "        \"PA\",\r\n",
        "        \"PE\",\r\n",
        "        \"PH\",\r\n",
        "        \"PY\",\r\n",
        "        \"SG\",\r\n",
        "        \"SV\",\r\n",
        "        \"TH\",\r\n",
        "        \"TW\",\r\n",
        "        \"US\",\r\n",
        "        \"UY\",\r\n",
        "        \"VN\"\r\n",
        "      ],\r\n",
        "      \"disc_number\": 1,\r\n",
        "      \"duration_ms\": 222706,\r\n",
        "      \"explicit\": False,\r\n",
        "      \"external_ids\": {\r\n",
        "        \"isrc\": \"USMTD0877203\"\r\n",
        "      },\r\n",
        "      \"external_urls\": {\r\n",
        "        \"spotify\": \"https://open.spotify.com/track/7fdUqrzb8oCcIoKvFuzMrs\"\r\n",
        "      },\r\n",
        "      \"href\": \"https://api.spotify.com/v1/tracks/7fdUqrzb8oCcIoKvFuzMrs\",\r\n",
        "      \"id\": \"7fdUqrzb8oCcIoKvFuzMrs\",\r\n",
        "      \"is_local\": False,\r\n",
        "      \"name\": \"Cold Son\",\r\n",
        "      \"popularity\": 25,\r\n",
        "      \"preview_url\": \"https://p.scdn.co/mp3-preview/4cf4e21727def47097e27d30de16ffe9f99b7774?cid=be22fd00039241bc96d161a63876b54c\",\r\n",
        "      \"track_number\": 3,\r\n",
        "      \"type\": \"track\",\r\n",
        "      \"uri\": \"spotify:track:7fdUqrzb8oCcIoKvFuzMrs\"\r\n",
        "    }\r\n",
        "  ]\r\n",
        "}"
      ],
      "execution_count": 111,
      "outputs": []
    },
    {
      "cell_type": "code",
      "metadata": {
        "colab": {
          "base_uri": "https://localhost:8080/"
        },
        "id": "BAtS0UyY33yh",
        "outputId": "bc58e8c4-60df-41fd-960d-d53ec020822a"
      },
      "source": [
        "data.keys()"
      ],
      "execution_count": 112,
      "outputs": [
        {
          "output_type": "execute_result",
          "data": {
            "text/plain": [
              "dict_keys(['tracks'])"
            ]
          },
          "metadata": {
            "tags": []
          },
          "execution_count": 112
        }
      ]
    },
    {
      "cell_type": "code",
      "metadata": {
        "colab": {
          "base_uri": "https://localhost:8080/"
        },
        "id": "4EZYiHl735oc",
        "outputId": "ec2c1daf-f60f-4411-c94c-2a7dbafc1eb2"
      },
      "source": [
        "df=json_normalize(data['tracks'],sep='_',max_level=0)"
      ],
      "execution_count": 123,
      "outputs": [
        {
          "output_type": "stream",
          "text": [
            "/usr/local/lib/python3.6/dist-packages/ipykernel_launcher.py:1: FutureWarning: pandas.io.json.json_normalize is deprecated, use pandas.json_normalize instead\n",
            "  \"\"\"Entry point for launching an IPython kernel.\n"
          ],
          "name": "stderr"
        }
      ]
    },
    {
      "cell_type": "code",
      "metadata": {
        "colab": {
          "base_uri": "https://localhost:8080/"
        },
        "id": "zGqu4_mk376l",
        "outputId": "8de0c835-4ee0-4102-9732-e1685f456a1e"
      },
      "source": [
        "df.info()"
      ],
      "execution_count": 124,
      "outputs": [
        {
          "output_type": "stream",
          "text": [
            "<class 'pandas.core.frame.DataFrame'>\n",
            "RangeIndex: 2 entries, 0 to 1\n",
            "Data columns (total 17 columns):\n",
            " #   Column             Non-Null Count  Dtype \n",
            "---  ------             --------------  ----- \n",
            " 0   album              2 non-null      object\n",
            " 1   artists            2 non-null      object\n",
            " 2   available_markets  2 non-null      object\n",
            " 3   disc_number        2 non-null      int64 \n",
            " 4   duration_ms        2 non-null      int64 \n",
            " 5   explicit           2 non-null      bool  \n",
            " 6   external_ids       2 non-null      object\n",
            " 7   external_urls      2 non-null      object\n",
            " 8   href               2 non-null      object\n",
            " 9   id                 2 non-null      object\n",
            " 10  is_local           2 non-null      bool  \n",
            " 11  name               2 non-null      object\n",
            " 12  popularity         2 non-null      int64 \n",
            " 13  preview_url        2 non-null      object\n",
            " 14  track_number       2 non-null      int64 \n",
            " 15  type               2 non-null      object\n",
            " 16  uri                2 non-null      object\n",
            "dtypes: bool(2), int64(4), object(11)\n",
            "memory usage: 372.0+ bytes\n"
          ],
          "name": "stdout"
        }
      ]
    },
    {
      "cell_type": "code",
      "metadata": {
        "colab": {
          "base_uri": "https://localhost:8080/"
        },
        "id": "DgWwtsFV38m0",
        "outputId": "eb8f77c2-ca2f-438b-f89a-59d98e387331"
      },
      "source": [
        "df.loc[0]"
      ],
      "execution_count": 125,
      "outputs": [
        {
          "output_type": "execute_result",
          "data": {
            "text/plain": [
              "album                {'album_type': 'album', 'artists': [{'external...\n",
              "artists              [{'external_urls': {'spotify': 'https://open.s...\n",
              "available_markets    [AR, BO, BR, CA, CL, CO, CR, EC, GT, HK, HN, I...\n",
              "disc_number                                                          1\n",
              "duration_ms                                                     608826\n",
              "explicit                                                         False\n",
              "external_ids                                  {'isrc': 'USMTD0877204'}\n",
              "external_urls        {'spotify': 'https://open.spotify.com/track/0B...\n",
              "href                 https://api.spotify.com/v1/tracks/0BDYBajZydY5...\n",
              "id                                              0BDYBajZydY54OTgQsH940\n",
              "is_local                                                         False\n",
              "name                                              Real Emotional Trash\n",
              "popularity                                                          21\n",
              "preview_url          https://p.scdn.co/mp3-preview/4fcbcd5a99fc7590...\n",
              "track_number                                                         4\n",
              "type                                                             track\n",
              "uri                               spotify:track:0BDYBajZydY54OTgQsH940\n",
              "Name: 0, dtype: object"
            ]
          },
          "metadata": {
            "tags": []
          },
          "execution_count": 125
        }
      ]
    },
    {
      "cell_type": "code",
      "metadata": {
        "colab": {
          "base_uri": "https://localhost:8080/"
        },
        "id": "h1ITMibf5die",
        "outputId": "e612aa46-b6cd-4866-b215-54bc0573340c"
      },
      "source": [
        "## maxlevel 1 , no maxlevel will normalize all levels\r\n",
        "df=json_normalize(data['tracks'],sep='_',max_level=1)\r\n",
        "df.loc[0]"
      ],
      "execution_count": 130,
      "outputs": [
        {
          "output_type": "stream",
          "text": [
            "/usr/local/lib/python3.6/dist-packages/ipykernel_launcher.py:2: FutureWarning: pandas.io.json.json_normalize is deprecated, use pandas.json_normalize instead\n",
            "  \n"
          ],
          "name": "stderr"
        },
        {
          "output_type": "execute_result",
          "data": {
            "text/plain": [
              "artists                         [{'external_urls': {'spotify': 'https://open.s...\n",
              "available_markets               [AR, BO, BR, CA, CL, CO, CR, EC, GT, HK, HN, I...\n",
              "disc_number                                                                     1\n",
              "duration_ms                                                                608826\n",
              "explicit                                                                    False\n",
              "href                            https://api.spotify.com/v1/tracks/0BDYBajZydY5...\n",
              "id                                                         0BDYBajZydY54OTgQsH940\n",
              "is_local                                                                    False\n",
              "name                                                         Real Emotional Trash\n",
              "popularity                                                                     21\n",
              "preview_url                     https://p.scdn.co/mp3-preview/4fcbcd5a99fc7590...\n",
              "track_number                                                                    4\n",
              "type                                                                        track\n",
              "uri                                          spotify:track:0BDYBajZydY54OTgQsH940\n",
              "album_album_type                                                            album\n",
              "album_artists                   [{'external_urls': {'spotify': 'https://open.s...\n",
              "album_available_markets         [AR, BO, BR, CA, CL, CO, CR, EC, GT, HK, HN, I...\n",
              "album_external_urls             {'spotify': 'https://open.spotify.com/album/6p...\n",
              "album_href                      https://api.spotify.com/v1/albums/6pWpb4IdPu9v...\n",
              "album_id                                                   6pWpb4IdPu9vp9mOdh5DjY\n",
              "album_images                    [{'height': 640, 'url': 'https://i.scdn.co/ima...\n",
              "album_name                                                   Real Emotional Trash\n",
              "album_release_date                                                     2008-03-04\n",
              "album_release_date_precision                                                  day\n",
              "album_type                                                                  album\n",
              "album_uri                                    spotify:album:6pWpb4IdPu9vp9mOdh5DjY\n",
              "external_ids_isrc                                                    USMTD0877204\n",
              "external_urls_spotify           https://open.spotify.com/track/0BDYBajZydY54OT...\n",
              "Name: 0, dtype: object"
            ]
          },
          "metadata": {
            "tags": []
          },
          "execution_count": 130
        }
      ]
    },
    {
      "cell_type": "code",
      "metadata": {
        "colab": {
          "base_uri": "https://localhost:8080/"
        },
        "id": "h-M_224358W1",
        "outputId": "9a56be9c-39a9-450a-e750-9b101ea49e66"
      },
      "source": [
        "## using record path and meta to flatten nested [] within json and use meta to include additional columns needed from larger object\r\n",
        "df.loc[0]['album_artists']"
      ],
      "execution_count": 131,
      "outputs": [
        {
          "output_type": "execute_result",
          "data": {
            "text/plain": [
              "[{'external_urls': {'spotify': 'https://open.spotify.com/artist/7wyRA7deGRxozTyBc6QXPe'},\n",
              "  'href': 'https://api.spotify.com/v1/artists/7wyRA7deGRxozTyBc6QXPe',\n",
              "  'id': '7wyRA7deGRxozTyBc6QXPe',\n",
              "  'name': 'Stephen Malkmus & The Jicks',\n",
              "  'type': 'artist',\n",
              "  'uri': 'spotify:artist:7wyRA7deGRxozTyBc6QXPe'},\n",
              " {'external_urls': {'spotify': 'https://open.spotify.com/artist/0WISkx0PwT6lYWdPqKUJY8'},\n",
              "  'href': 'https://api.spotify.com/v1/artists/0WISkx0PwT6lYWdPqKUJY8',\n",
              "  'id': '0WISkx0PwT6lYWdPqKUJY8',\n",
              "  'name': 'Stephen Malkmus',\n",
              "  'type': 'artist',\n",
              "  'uri': 'spotify:artist:0WISkx0PwT6lYWdPqKUJY8'},\n",
              " {'external_urls': {'spotify': 'https://open.spotify.com/artist/7uStwCeP54Za8gXUFCf5L7'},\n",
              "  'href': 'https://api.spotify.com/v1/artists/7uStwCeP54Za8gXUFCf5L7',\n",
              "  'id': '7uStwCeP54Za8gXUFCf5L7',\n",
              "  'name': 'The Jicks',\n",
              "  'type': 'artist',\n",
              "  'uri': 'spotify:artist:7uStwCeP54Za8gXUFCf5L7'}]"
            ]
          },
          "metadata": {
            "tags": []
          },
          "execution_count": 131
        }
      ]
    },
    {
      "cell_type": "code",
      "metadata": {
        "colab": {
          "base_uri": "https://localhost:8080/"
        },
        "id": "HbMfe2jo7Bc1",
        "outputId": "fcde9b86-6480-4361-f781-d98046bdf915"
      },
      "source": [
        "df=json_normalize(data['tracks'],sep='_',record_path='artists',meta=['id','popularity'],meta_prefix='track_')\r\n",
        "df.loc[0]"
      ],
      "execution_count": 135,
      "outputs": [
        {
          "output_type": "stream",
          "text": [
            "/usr/local/lib/python3.6/dist-packages/ipykernel_launcher.py:1: FutureWarning: pandas.io.json.json_normalize is deprecated, use pandas.json_normalize instead\n",
            "  \"\"\"Entry point for launching an IPython kernel.\n"
          ],
          "name": "stderr"
        },
        {
          "output_type": "execute_result",
          "data": {
            "text/plain": [
              "href                     https://api.spotify.com/v1/artists/7wyRA7deGRx...\n",
              "id                                                  7wyRA7deGRxozTyBc6QXPe\n",
              "name                                           Stephen Malkmus & The Jicks\n",
              "type                                                                artist\n",
              "uri                                  spotify:artist:7wyRA7deGRxozTyBc6QXPe\n",
              "external_urls_spotify    https://open.spotify.com/artist/7wyRA7deGRxozT...\n",
              "track_id                                            0BDYBajZydY54OTgQsH940\n",
              "track_popularity                                                        21\n",
              "Name: 0, dtype: object"
            ]
          },
          "metadata": {
            "tags": []
          },
          "execution_count": 135
        }
      ]
    },
    {
      "cell_type": "code",
      "metadata": {
        "id": "O859vRAB7Kkc"
      },
      "source": [
        ""
      ],
      "execution_count": null,
      "outputs": []
    }
  ]
}
